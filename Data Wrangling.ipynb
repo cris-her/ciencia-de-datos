{
 "cells": [
  {
   "cell_type": "markdown",
   "metadata": {},
   "source": [
    "# Data Wrangling"
   ]
  },
  {
   "cell_type": "code",
   "execution_count": 4,
   "metadata": {},
   "outputs": [],
   "source": [
    "import pandas as pd\n",
    "import csv\n",
    "\n",
    "pd.options.display.max_rows = 6\n",
    "el_tiempo = pd.read_csv('web_scrapper/eltiempo_2018,_12_07_articles.csv', encoding='utf-8')"
   ]
  },
  {
   "cell_type": "markdown",
   "metadata": {},
   "source": [
    "### 1. Añadir un newspaper_uid al Dataframe"
   ]
  },
  {
   "cell_type": "code",
   "execution_count": 5,
   "metadata": {},
   "outputs": [
    {
     "data": {
      "text/html": [
       "<div>\n",
       "<style scoped>\n",
       "    .dataframe tbody tr th:only-of-type {\n",
       "        vertical-align: middle;\n",
       "    }\n",
       "\n",
       "    .dataframe tbody tr th {\n",
       "        vertical-align: top;\n",
       "    }\n",
       "\n",
       "    .dataframe thead th {\n",
       "        text-align: right;\n",
       "    }\n",
       "</style>\n",
       "<table border=\"1\" class=\"dataframe\">\n",
       "  <thead>\n",
       "    <tr style=\"text-align: right;\">\n",
       "      <th></th>\n",
       "      <th>body</th>\n",
       "      <th>title</th>\n",
       "      <th>url</th>\n",
       "      <th>newspaper_uid</th>\n",
       "    </tr>\n",
       "  </thead>\n",
       "  <tbody>\n",
       "    <tr>\n",
       "      <th>0</th>\n",
       "      <td>\\n\\n\\n\\nEl presidente de Ecuador, Lenín Moreno...</td>\n",
       "      <td>'Está hecho el camino para que Assange deje la...</td>\n",
       "      <td>https://www.eltiempo.com/mundo/latinoamerica/l...</td>\n",
       "      <td>eltiempo</td>\n",
       "    </tr>\n",
       "    <tr>\n",
       "      <th>1</th>\n",
       "      <td>\\n\\n\\n\\nMedianoche del miércoles 28 de noviemb...</td>\n",
       "      <td>Pidió un Uber y acabó en un pique ilegal</td>\n",
       "      <td>https://www.eltiempo.com/bogota/historia-de-un...</td>\n",
       "      <td>eltiempo</td>\n",
       "    </tr>\n",
       "    <tr>\n",
       "      <th>2</th>\n",
       "      <td>\\n\\n\\n\\nPhilip Morris, la mayor tabacalera del...</td>\n",
       "      <td>Multinacional Philip Morris avanza en su campa...</td>\n",
       "      <td>https://www.eltiempo.com/economia/multinaciona...</td>\n",
       "      <td>eltiempo</td>\n",
       "    </tr>\n",
       "    <tr>\n",
       "      <th>...</th>\n",
       "      <td>...</td>\n",
       "      <td>...</td>\n",
       "      <td>...</td>\n",
       "      <td>...</td>\n",
       "    </tr>\n",
       "    <tr>\n",
       "      <th>54</th>\n",
       "      <td>\\n\\n\\n\\nBelisario Betancur también puede consi...</td>\n",
       "      <td>Así fue la presidencia de Belisario Betancur e...</td>\n",
       "      <td>https://www.eltiempo.com/colombia/como-fue-la-...</td>\n",
       "      <td>eltiempo</td>\n",
       "    </tr>\n",
       "    <tr>\n",
       "      <th>55</th>\n",
       "      <td>\\n\\n\\n\\nPor considerar que en todo proceso jud...</td>\n",
       "      <td>Tutela para que decisiones de JEP sobre extrad...</td>\n",
       "      <td>https://www.eltiempo.com/justicia/jep-colombia...</td>\n",
       "      <td>eltiempo</td>\n",
       "    </tr>\n",
       "    <tr>\n",
       "      <th>56</th>\n",
       "      <td>\\n\\n\\n\\nLa Jurisdicción Especial para la Paz (...</td>\n",
       "      <td>JEP pide a autoridades localizar al 'Paisa' pa...</td>\n",
       "      <td>https://www.eltiempo.com/justicia/jep-colombia...</td>\n",
       "      <td>eltiempo</td>\n",
       "    </tr>\n",
       "  </tbody>\n",
       "</table>\n",
       "<p>57 rows × 4 columns</p>\n",
       "</div>"
      ],
      "text/plain": [
       "                                                 body  \\\n",
       "0   \\n\\n\\n\\nEl presidente de Ecuador, Lenín Moreno...   \n",
       "1   \\n\\n\\n\\nMedianoche del miércoles 28 de noviemb...   \n",
       "2   \\n\\n\\n\\nPhilip Morris, la mayor tabacalera del...   \n",
       "..                                                ...   \n",
       "54  \\n\\n\\n\\nBelisario Betancur también puede consi...   \n",
       "55  \\n\\n\\n\\nPor considerar que en todo proceso jud...   \n",
       "56  \\n\\n\\n\\nLa Jurisdicción Especial para la Paz (...   \n",
       "\n",
       "                                                title  \\\n",
       "0   'Está hecho el camino para que Assange deje la...   \n",
       "1            Pidió un Uber y acabó en un pique ilegal   \n",
       "2   Multinacional Philip Morris avanza en su campa...   \n",
       "..                                                ...   \n",
       "54  Así fue la presidencia de Belisario Betancur e...   \n",
       "55  Tutela para que decisiones de JEP sobre extrad...   \n",
       "56  JEP pide a autoridades localizar al 'Paisa' pa...   \n",
       "\n",
       "                                                  url newspaper_uid  \n",
       "0   https://www.eltiempo.com/mundo/latinoamerica/l...      eltiempo  \n",
       "1   https://www.eltiempo.com/bogota/historia-de-un...      eltiempo  \n",
       "2   https://www.eltiempo.com/economia/multinaciona...      eltiempo  \n",
       "..                                                ...           ...  \n",
       "54  https://www.eltiempo.com/colombia/como-fue-la-...      eltiempo  \n",
       "55  https://www.eltiempo.com/justicia/jep-colombia...      eltiempo  \n",
       "56  https://www.eltiempo.com/justicia/jep-colombia...      eltiempo  \n",
       "\n",
       "[57 rows x 4 columns]"
      ]
     },
     "execution_count": 5,
     "metadata": {},
     "output_type": "execute_result"
    }
   ],
   "source": [
    "el_tiempo['newspaper_uid'] = 'eltiempo'\n",
    "el_tiempo"
   ]
  },
  {
   "cell_type": "markdown",
   "metadata": {},
   "source": [
    "### 2. Obtener el host para saber de que páginas está construida la página principal de cada periodico"
   ]
  },
  {
   "cell_type": "code",
   "execution_count": 7,
   "metadata": {},
   "outputs": [],
   "source": [
    "from urllib.parse import urlparse"
   ]
  },
  {
   "cell_type": "code",
   "execution_count": 16,
   "metadata": {},
   "outputs": [
    {
     "name": "stdout",
     "output_type": "stream",
     "text": [
      "La url de ejemplo es: \n",
      "https://www.eltiempo.com/mundo/latinoamerica/lenin-moreno-habla-sobre-el-exilio-de-julian-assange-en-embajada-de-ecuador-302342\n",
      "El host es: www.eltiempo.com\n"
     ]
    }
   ],
   "source": [
    "url_ejemplo = el_tiempo.iloc[0]['url']\n",
    "print(f\"La url de ejemplo es: \\n{url_ejemplo}\")\n",
    "host_ejemplo = urlparse(url_ejemplo).netloc\n",
    "print(f\"El host es: {host_ejemplo}\")"
   ]
  },
  {
   "cell_type": "code",
   "execution_count": 15,
   "metadata": {},
   "outputs": [
    {
     "data": {
      "text/html": [
       "<div>\n",
       "<style scoped>\n",
       "    .dataframe tbody tr th:only-of-type {\n",
       "        vertical-align: middle;\n",
       "    }\n",
       "\n",
       "    .dataframe tbody tr th {\n",
       "        vertical-align: top;\n",
       "    }\n",
       "\n",
       "    .dataframe thead th {\n",
       "        text-align: right;\n",
       "    }\n",
       "</style>\n",
       "<table border=\"1\" class=\"dataframe\">\n",
       "  <thead>\n",
       "    <tr style=\"text-align: right;\">\n",
       "      <th></th>\n",
       "      <th>body</th>\n",
       "      <th>title</th>\n",
       "      <th>url</th>\n",
       "      <th>newspaper_uid</th>\n",
       "      <th>host</th>\n",
       "    </tr>\n",
       "  </thead>\n",
       "  <tbody>\n",
       "    <tr>\n",
       "      <th>0</th>\n",
       "      <td>\\n\\n\\n\\nEl presidente de Ecuador, Lenín Moreno...</td>\n",
       "      <td>'Está hecho el camino para que Assange deje la...</td>\n",
       "      <td>https://www.eltiempo.com/mundo/latinoamerica/l...</td>\n",
       "      <td>eltiempo</td>\n",
       "      <td>www.eltiempo.com</td>\n",
       "    </tr>\n",
       "    <tr>\n",
       "      <th>1</th>\n",
       "      <td>\\n\\n\\n\\nMedianoche del miércoles 28 de noviemb...</td>\n",
       "      <td>Pidió un Uber y acabó en un pique ilegal</td>\n",
       "      <td>https://www.eltiempo.com/bogota/historia-de-un...</td>\n",
       "      <td>eltiempo</td>\n",
       "      <td>www.eltiempo.com</td>\n",
       "    </tr>\n",
       "    <tr>\n",
       "      <th>2</th>\n",
       "      <td>\\n\\n\\n\\nPhilip Morris, la mayor tabacalera del...</td>\n",
       "      <td>Multinacional Philip Morris avanza en su campa...</td>\n",
       "      <td>https://www.eltiempo.com/economia/multinaciona...</td>\n",
       "      <td>eltiempo</td>\n",
       "      <td>www.eltiempo.com</td>\n",
       "    </tr>\n",
       "    <tr>\n",
       "      <th>...</th>\n",
       "      <td>...</td>\n",
       "      <td>...</td>\n",
       "      <td>...</td>\n",
       "      <td>...</td>\n",
       "      <td>...</td>\n",
       "    </tr>\n",
       "    <tr>\n",
       "      <th>54</th>\n",
       "      <td>\\n\\n\\n\\nBelisario Betancur también puede consi...</td>\n",
       "      <td>Así fue la presidencia de Belisario Betancur e...</td>\n",
       "      <td>https://www.eltiempo.com/colombia/como-fue-la-...</td>\n",
       "      <td>eltiempo</td>\n",
       "      <td>www.eltiempo.com</td>\n",
       "    </tr>\n",
       "    <tr>\n",
       "      <th>55</th>\n",
       "      <td>\\n\\n\\n\\nPor considerar que en todo proceso jud...</td>\n",
       "      <td>Tutela para que decisiones de JEP sobre extrad...</td>\n",
       "      <td>https://www.eltiempo.com/justicia/jep-colombia...</td>\n",
       "      <td>eltiempo</td>\n",
       "      <td>www.eltiempo.com</td>\n",
       "    </tr>\n",
       "    <tr>\n",
       "      <th>56</th>\n",
       "      <td>\\n\\n\\n\\nLa Jurisdicción Especial para la Paz (...</td>\n",
       "      <td>JEP pide a autoridades localizar al 'Paisa' pa...</td>\n",
       "      <td>https://www.eltiempo.com/justicia/jep-colombia...</td>\n",
       "      <td>eltiempo</td>\n",
       "      <td>www.eltiempo.com</td>\n",
       "    </tr>\n",
       "  </tbody>\n",
       "</table>\n",
       "<p>57 rows × 5 columns</p>\n",
       "</div>"
      ],
      "text/plain": [
       "                                                 body  \\\n",
       "0   \\n\\n\\n\\nEl presidente de Ecuador, Lenín Moreno...   \n",
       "1   \\n\\n\\n\\nMedianoche del miércoles 28 de noviemb...   \n",
       "2   \\n\\n\\n\\nPhilip Morris, la mayor tabacalera del...   \n",
       "..                                                ...   \n",
       "54  \\n\\n\\n\\nBelisario Betancur también puede consi...   \n",
       "55  \\n\\n\\n\\nPor considerar que en todo proceso jud...   \n",
       "56  \\n\\n\\n\\nLa Jurisdicción Especial para la Paz (...   \n",
       "\n",
       "                                                title  \\\n",
       "0   'Está hecho el camino para que Assange deje la...   \n",
       "1            Pidió un Uber y acabó en un pique ilegal   \n",
       "2   Multinacional Philip Morris avanza en su campa...   \n",
       "..                                                ...   \n",
       "54  Así fue la presidencia de Belisario Betancur e...   \n",
       "55  Tutela para que decisiones de JEP sobre extrad...   \n",
       "56  JEP pide a autoridades localizar al 'Paisa' pa...   \n",
       "\n",
       "                                                  url newspaper_uid  \\\n",
       "0   https://www.eltiempo.com/mundo/latinoamerica/l...      eltiempo   \n",
       "1   https://www.eltiempo.com/bogota/historia-de-un...      eltiempo   \n",
       "2   https://www.eltiempo.com/economia/multinaciona...      eltiempo   \n",
       "..                                                ...           ...   \n",
       "54  https://www.eltiempo.com/colombia/como-fue-la-...      eltiempo   \n",
       "55  https://www.eltiempo.com/justicia/jep-colombia...      eltiempo   \n",
       "56  https://www.eltiempo.com/justicia/jep-colombia...      eltiempo   \n",
       "\n",
       "                host  \n",
       "0   www.eltiempo.com  \n",
       "1   www.eltiempo.com  \n",
       "2   www.eltiempo.com  \n",
       "..               ...  \n",
       "54  www.eltiempo.com  \n",
       "55  www.eltiempo.com  \n",
       "56  www.eltiempo.com  \n",
       "\n",
       "[57 rows x 5 columns]"
      ]
     },
     "execution_count": 15,
     "metadata": {},
     "output_type": "execute_result"
    }
   ],
   "source": [
    "el_tiempo['host'] = el_tiempo['url'].apply(lambda url: urlparse(url).netloc)\n",
    "el_tiempo"
   ]
  },
  {
   "cell_type": "code",
   "execution_count": 19,
   "metadata": {},
   "outputs": [
    {
     "data": {
      "text/plain": [
       "www.eltiempo.com     55\n",
       "www.futbolred.com     2\n",
       "Name: host, dtype: int64"
      ]
     },
     "execution_count": 19,
     "metadata": {},
     "output_type": "execute_result"
    }
   ],
   "source": [
    "el_tiempo['host'].value_counts()"
   ]
  },
  {
   "cell_type": "code",
   "execution_count": null,
   "metadata": {},
   "outputs": [],
   "source": []
  }
 ],
 "metadata": {
  "kernelspec": {
   "display_name": "Python 3",
   "language": "python",
   "name": "python3"
  },
  "language_info": {
   "codemirror_mode": {
    "name": "ipython",
    "version": 3
   },
   "file_extension": ".py",
   "mimetype": "text/x-python",
   "name": "python",
   "nbconvert_exporter": "python",
   "pygments_lexer": "ipython3",
   "version": "3.6.5"
  }
 },
 "nbformat": 4,
 "nbformat_minor": 2
}
