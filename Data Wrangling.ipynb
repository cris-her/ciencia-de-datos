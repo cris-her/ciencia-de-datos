{
 "cells": [
  {
   "cell_type": "markdown",
   "metadata": {},
   "source": [
    "# Data Wrangling"
   ]
  },
  {
   "cell_type": "code",
   "execution_count": 2,
   "metadata": {},
   "outputs": [],
   "source": [
    "import pandas as pd\n",
    "import csv\n",
    "\n",
    "pd.options.display.max_rows = 6\n",
    "el_tiempo = pd.read_csv('web_scrapper/eltiempo_2018_12_09_articles.csv', encoding='utf-8')"
   ]
  },
  {
   "cell_type": "markdown",
   "metadata": {},
   "source": [
    "### 1. Añadir un newspaper_uid al Dataframe"
   ]
  },
  {
   "cell_type": "code",
   "execution_count": 3,
   "metadata": {},
   "outputs": [
    {
     "data": {
      "text/html": [
       "<div>\n",
       "<style scoped>\n",
       "    .dataframe tbody tr th:only-of-type {\n",
       "        vertical-align: middle;\n",
       "    }\n",
       "\n",
       "    .dataframe tbody tr th {\n",
       "        vertical-align: top;\n",
       "    }\n",
       "\n",
       "    .dataframe thead th {\n",
       "        text-align: right;\n",
       "    }\n",
       "</style>\n",
       "<table border=\"1\" class=\"dataframe\">\n",
       "  <thead>\n",
       "    <tr style=\"text-align: right;\">\n",
       "      <th></th>\n",
       "      <th>body</th>\n",
       "      <th>title</th>\n",
       "      <th>url</th>\n",
       "      <th>newspaper_uid</th>\n",
       "    </tr>\n",
       "  </thead>\n",
       "  <tbody>\n",
       "    <tr>\n",
       "      <th>0</th>\n",
       "      <td>\\n\\n\\n\\nLos derechos humanos son una pieza cla...</td>\n",
       "      <td>¿Cuál es el futuro de los derechos humanos en ...</td>\n",
       "      <td>https://www.eltiempo.com/podcast/no-es-hora-de...</td>\n",
       "      <td>eltiempo</td>\n",
       "    </tr>\n",
       "    <tr>\n",
       "      <th>1</th>\n",
       "      <td>\\n\\n\\n\\nEl pasado 6 de diciembre se cumplieron...</td>\n",
       "      <td>NaN</td>\n",
       "      <td>https://www.eltiempo.com/opinion/editorial/una...</td>\n",
       "      <td>eltiempo</td>\n",
       "    </tr>\n",
       "    <tr>\n",
       "      <th>2</th>\n",
       "      <td>\\n\\n\\n\\nCelebra River Plate el título de la Co...</td>\n",
       "      <td>Quintero: el colombiano fue héroe de River par...</td>\n",
       "      <td>https://www.eltiempo.com/deportes/futbol-inter...</td>\n",
       "      <td>eltiempo</td>\n",
       "    </tr>\n",
       "    <tr>\n",
       "      <th>...</th>\n",
       "      <td>...</td>\n",
       "      <td>...</td>\n",
       "      <td>...</td>\n",
       "      <td>...</td>\n",
       "    </tr>\n",
       "    <tr>\n",
       "      <th>51</th>\n",
       "      <td>\\n\\n\\n\\nEn el 2019, la recuperación del sector...</td>\n",
       "      <td>Ventas de vivienda en Colombia aumentarán 3,7 ...</td>\n",
       "      <td>https://www.eltiempo.com/economia/sectores/ven...</td>\n",
       "      <td>eltiempo</td>\n",
       "    </tr>\n",
       "    <tr>\n",
       "      <th>52</th>\n",
       "      <td>\\n\\n\\n\\nEs claro que dolor y placer son polos ...</td>\n",
       "      <td>Polvos que ayudan a curar / Sexo con Esther</td>\n",
       "      <td>https://www.eltiempo.com/vida/salud/polvos-que...</td>\n",
       "      <td>eltiempo</td>\n",
       "    </tr>\n",
       "    <tr>\n",
       "      <th>53</th>\n",
       "      <td>\\n\\n\\n\\nEl día en que aparecieron flotando en ...</td>\n",
       "      <td>El sangriento capítulo colombiano en el juicio...</td>\n",
       "      <td>https://www.eltiempo.com/justicia/investigacio...</td>\n",
       "      <td>eltiempo</td>\n",
       "    </tr>\n",
       "  </tbody>\n",
       "</table>\n",
       "<p>54 rows × 4 columns</p>\n",
       "</div>"
      ],
      "text/plain": [
       "                                                 body  \\\n",
       "0   \\n\\n\\n\\nLos derechos humanos son una pieza cla...   \n",
       "1   \\n\\n\\n\\nEl pasado 6 de diciembre se cumplieron...   \n",
       "2   \\n\\n\\n\\nCelebra River Plate el título de la Co...   \n",
       "..                                                ...   \n",
       "51  \\n\\n\\n\\nEn el 2019, la recuperación del sector...   \n",
       "52  \\n\\n\\n\\nEs claro que dolor y placer son polos ...   \n",
       "53  \\n\\n\\n\\nEl día en que aparecieron flotando en ...   \n",
       "\n",
       "                                                title  \\\n",
       "0   ¿Cuál es el futuro de los derechos humanos en ...   \n",
       "1                                                 NaN   \n",
       "2   Quintero: el colombiano fue héroe de River par...   \n",
       "..                                                ...   \n",
       "51  Ventas de vivienda en Colombia aumentarán 3,7 ...   \n",
       "52        Polvos que ayudan a curar / Sexo con Esther   \n",
       "53  El sangriento capítulo colombiano en el juicio...   \n",
       "\n",
       "                                                  url newspaper_uid  \n",
       "0   https://www.eltiempo.com/podcast/no-es-hora-de...      eltiempo  \n",
       "1   https://www.eltiempo.com/opinion/editorial/una...      eltiempo  \n",
       "2   https://www.eltiempo.com/deportes/futbol-inter...      eltiempo  \n",
       "..                                                ...           ...  \n",
       "51  https://www.eltiempo.com/economia/sectores/ven...      eltiempo  \n",
       "52  https://www.eltiempo.com/vida/salud/polvos-que...      eltiempo  \n",
       "53  https://www.eltiempo.com/justicia/investigacio...      eltiempo  \n",
       "\n",
       "[54 rows x 4 columns]"
      ]
     },
     "execution_count": 3,
     "metadata": {},
     "output_type": "execute_result"
    }
   ],
   "source": [
    "el_tiempo['newspaper_uid'] = 'eltiempo'\n",
    "el_tiempo"
   ]
  },
  {
   "cell_type": "markdown",
   "metadata": {},
   "source": [
    "### 2. Obtener el host para saber de que páginas está construida la página principal de cada periodico"
   ]
  },
  {
   "cell_type": "code",
   "execution_count": 4,
   "metadata": {},
   "outputs": [],
   "source": [
    "from urllib.parse import urlparse"
   ]
  },
  {
   "cell_type": "code",
   "execution_count": 5,
   "metadata": {},
   "outputs": [
    {
     "name": "stdout",
     "output_type": "stream",
     "text": [
      "La url de ejemplo es: \n",
      "https://www.eltiempo.com/podcast/no-es-hora-de-callar/cual-es-el-futuro-de-los-derechos-humanos-en-america-303288\n",
      "El host es: www.eltiempo.com\n"
     ]
    }
   ],
   "source": [
    "url_ejemplo = el_tiempo.iloc[0]['url']\n",
    "print(f\"La url de ejemplo es: \\n{url_ejemplo}\")\n",
    "host_ejemplo = urlparse(url_ejemplo).netloc\n",
    "print(f\"El host es: {host_ejemplo}\")"
   ]
  },
  {
   "cell_type": "code",
   "execution_count": 6,
   "metadata": {},
   "outputs": [
    {
     "data": {
      "text/html": [
       "<div>\n",
       "<style scoped>\n",
       "    .dataframe tbody tr th:only-of-type {\n",
       "        vertical-align: middle;\n",
       "    }\n",
       "\n",
       "    .dataframe tbody tr th {\n",
       "        vertical-align: top;\n",
       "    }\n",
       "\n",
       "    .dataframe thead th {\n",
       "        text-align: right;\n",
       "    }\n",
       "</style>\n",
       "<table border=\"1\" class=\"dataframe\">\n",
       "  <thead>\n",
       "    <tr style=\"text-align: right;\">\n",
       "      <th></th>\n",
       "      <th>body</th>\n",
       "      <th>title</th>\n",
       "      <th>url</th>\n",
       "      <th>newspaper_uid</th>\n",
       "      <th>host</th>\n",
       "    </tr>\n",
       "  </thead>\n",
       "  <tbody>\n",
       "    <tr>\n",
       "      <th>0</th>\n",
       "      <td>\\n\\n\\n\\nLos derechos humanos son una pieza cla...</td>\n",
       "      <td>¿Cuál es el futuro de los derechos humanos en ...</td>\n",
       "      <td>https://www.eltiempo.com/podcast/no-es-hora-de...</td>\n",
       "      <td>eltiempo</td>\n",
       "      <td>www.eltiempo.com</td>\n",
       "    </tr>\n",
       "    <tr>\n",
       "      <th>1</th>\n",
       "      <td>\\n\\n\\n\\nEl pasado 6 de diciembre se cumplieron...</td>\n",
       "      <td>NaN</td>\n",
       "      <td>https://www.eltiempo.com/opinion/editorial/una...</td>\n",
       "      <td>eltiempo</td>\n",
       "      <td>www.eltiempo.com</td>\n",
       "    </tr>\n",
       "    <tr>\n",
       "      <th>2</th>\n",
       "      <td>\\n\\n\\n\\nCelebra River Plate el título de la Co...</td>\n",
       "      <td>Quintero: el colombiano fue héroe de River par...</td>\n",
       "      <td>https://www.eltiempo.com/deportes/futbol-inter...</td>\n",
       "      <td>eltiempo</td>\n",
       "      <td>www.eltiempo.com</td>\n",
       "    </tr>\n",
       "    <tr>\n",
       "      <th>...</th>\n",
       "      <td>...</td>\n",
       "      <td>...</td>\n",
       "      <td>...</td>\n",
       "      <td>...</td>\n",
       "      <td>...</td>\n",
       "    </tr>\n",
       "    <tr>\n",
       "      <th>51</th>\n",
       "      <td>\\n\\n\\n\\nEn el 2019, la recuperación del sector...</td>\n",
       "      <td>Ventas de vivienda en Colombia aumentarán 3,7 ...</td>\n",
       "      <td>https://www.eltiempo.com/economia/sectores/ven...</td>\n",
       "      <td>eltiempo</td>\n",
       "      <td>www.eltiempo.com</td>\n",
       "    </tr>\n",
       "    <tr>\n",
       "      <th>52</th>\n",
       "      <td>\\n\\n\\n\\nEs claro que dolor y placer son polos ...</td>\n",
       "      <td>Polvos que ayudan a curar / Sexo con Esther</td>\n",
       "      <td>https://www.eltiempo.com/vida/salud/polvos-que...</td>\n",
       "      <td>eltiempo</td>\n",
       "      <td>www.eltiempo.com</td>\n",
       "    </tr>\n",
       "    <tr>\n",
       "      <th>53</th>\n",
       "      <td>\\n\\n\\n\\nEl día en que aparecieron flotando en ...</td>\n",
       "      <td>El sangriento capítulo colombiano en el juicio...</td>\n",
       "      <td>https://www.eltiempo.com/justicia/investigacio...</td>\n",
       "      <td>eltiempo</td>\n",
       "      <td>www.eltiempo.com</td>\n",
       "    </tr>\n",
       "  </tbody>\n",
       "</table>\n",
       "<p>54 rows × 5 columns</p>\n",
       "</div>"
      ],
      "text/plain": [
       "                                                 body  \\\n",
       "0   \\n\\n\\n\\nLos derechos humanos son una pieza cla...   \n",
       "1   \\n\\n\\n\\nEl pasado 6 de diciembre se cumplieron...   \n",
       "2   \\n\\n\\n\\nCelebra River Plate el título de la Co...   \n",
       "..                                                ...   \n",
       "51  \\n\\n\\n\\nEn el 2019, la recuperación del sector...   \n",
       "52  \\n\\n\\n\\nEs claro que dolor y placer son polos ...   \n",
       "53  \\n\\n\\n\\nEl día en que aparecieron flotando en ...   \n",
       "\n",
       "                                                title  \\\n",
       "0   ¿Cuál es el futuro de los derechos humanos en ...   \n",
       "1                                                 NaN   \n",
       "2   Quintero: el colombiano fue héroe de River par...   \n",
       "..                                                ...   \n",
       "51  Ventas de vivienda en Colombia aumentarán 3,7 ...   \n",
       "52        Polvos que ayudan a curar / Sexo con Esther   \n",
       "53  El sangriento capítulo colombiano en el juicio...   \n",
       "\n",
       "                                                  url newspaper_uid  \\\n",
       "0   https://www.eltiempo.com/podcast/no-es-hora-de...      eltiempo   \n",
       "1   https://www.eltiempo.com/opinion/editorial/una...      eltiempo   \n",
       "2   https://www.eltiempo.com/deportes/futbol-inter...      eltiempo   \n",
       "..                                                ...           ...   \n",
       "51  https://www.eltiempo.com/economia/sectores/ven...      eltiempo   \n",
       "52  https://www.eltiempo.com/vida/salud/polvos-que...      eltiempo   \n",
       "53  https://www.eltiempo.com/justicia/investigacio...      eltiempo   \n",
       "\n",
       "                host  \n",
       "0   www.eltiempo.com  \n",
       "1   www.eltiempo.com  \n",
       "2   www.eltiempo.com  \n",
       "..               ...  \n",
       "51  www.eltiempo.com  \n",
       "52  www.eltiempo.com  \n",
       "53  www.eltiempo.com  \n",
       "\n",
       "[54 rows x 5 columns]"
      ]
     },
     "execution_count": 6,
     "metadata": {},
     "output_type": "execute_result"
    }
   ],
   "source": [
    "el_tiempo['host'] = el_tiempo['url'].apply(lambda url: urlparse(url).netloc)\n",
    "el_tiempo"
   ]
  },
  {
   "cell_type": "code",
   "execution_count": 7,
   "metadata": {},
   "outputs": [
    {
     "data": {
      "text/plain": [
       "www.eltiempo.com     51\n",
       "www.futbolred.com     3\n",
       "Name: host, dtype: int64"
      ]
     },
     "execution_count": 7,
     "metadata": {},
     "output_type": "execute_result"
    }
   ],
   "source": [
    "el_tiempo['host'].value_counts()"
   ]
  },
  {
   "cell_type": "markdown",
   "metadata": {},
   "source": [
    "## Datos Faltantes"
   ]
  },
  {
   "cell_type": "markdown",
   "metadata": {},
   "source": [
    "### Rellenar datos faltantes"
   ]
  },
  {
   "cell_type": "code",
   "execution_count": 10,
   "metadata": {},
   "outputs": [
    {
     "data": {
      "text/plain": [
       "0     False\n",
       "1      True\n",
       "2     False\n",
       "      ...  \n",
       "51    False\n",
       "52    False\n",
       "53    False\n",
       "Name: title, Length: 54, dtype: bool"
      ]
     },
     "execution_count": 10,
     "metadata": {},
     "output_type": "execute_result"
    }
   ],
   "source": [
    "# Mascara\n",
    "missing_titles_mask = el_tiempo['title'].isna()\n",
    "# Retorna un Series en donde marca True con los datos NaN\n",
    "missing_titles_mask"
   ]
  },
  {
   "cell_type": "code",
   "execution_count": 11,
   "metadata": {},
   "outputs": [
    {
     "data": {
      "text/html": [
       "<div>\n",
       "<style scoped>\n",
       "    .dataframe tbody tr th:only-of-type {\n",
       "        vertical-align: middle;\n",
       "    }\n",
       "\n",
       "    .dataframe tbody tr th {\n",
       "        vertical-align: top;\n",
       "    }\n",
       "\n",
       "    .dataframe thead th {\n",
       "        text-align: right;\n",
       "    }\n",
       "</style>\n",
       "<table border=\"1\" class=\"dataframe\">\n",
       "  <thead>\n",
       "    <tr style=\"text-align: right;\">\n",
       "      <th></th>\n",
       "      <th>body</th>\n",
       "      <th>title</th>\n",
       "      <th>url</th>\n",
       "      <th>newspaper_uid</th>\n",
       "      <th>host</th>\n",
       "    </tr>\n",
       "  </thead>\n",
       "  <tbody>\n",
       "    <tr>\n",
       "      <th>1</th>\n",
       "      <td>\\n\\n\\n\\nEl pasado 6 de diciembre se cumplieron...</td>\n",
       "      <td>NaN</td>\n",
       "      <td>https://www.eltiempo.com/opinion/editorial/una...</td>\n",
       "      <td>eltiempo</td>\n",
       "      <td>www.eltiempo.com</td>\n",
       "    </tr>\n",
       "    <tr>\n",
       "      <th>7</th>\n",
       "      <td>\\n\\n\\n\\nAsí es ella: grande, segura, dedicada ...</td>\n",
       "      <td>NaN</td>\n",
       "      <td>https://www.eltiempo.com/opinion/columnistas/p...</td>\n",
       "      <td>eltiempo</td>\n",
       "      <td>www.eltiempo.com</td>\n",
       "    </tr>\n",
       "    <tr>\n",
       "      <th>20</th>\n",
       "      <td>\\n\\nUn emotivo partido se vivió este sábado en...</td>\n",
       "      <td>NaN</td>\n",
       "      <td>https://www.futbolred.com/futbol-colombiano/li...</td>\n",
       "      <td>eltiempo</td>\n",
       "      <td>www.futbolred.com</td>\n",
       "    </tr>\n",
       "    <tr>\n",
       "      <th>...</th>\n",
       "      <td>...</td>\n",
       "      <td>...</td>\n",
       "      <td>...</td>\n",
       "      <td>...</td>\n",
       "      <td>...</td>\n",
       "    </tr>\n",
       "    <tr>\n",
       "      <th>38</th>\n",
       "      <td>\\n\\nTeófilo Gutiérrez, Jarlan Barrera y Luis D...</td>\n",
       "      <td>NaN</td>\n",
       "      <td>https://www.futbolred.com/futbol-colombiano/li...</td>\n",
       "      <td>eltiempo</td>\n",
       "      <td>www.futbolred.com</td>\n",
       "    </tr>\n",
       "    <tr>\n",
       "      <th>45</th>\n",
       "      <td>\\n\\n\\n\\nPuede que la imagen de Petro manoseand...</td>\n",
       "      <td>NaN</td>\n",
       "      <td>https://www.eltiempo.com/opinion/columnistas/m...</td>\n",
       "      <td>eltiempo</td>\n",
       "      <td>www.eltiempo.com</td>\n",
       "    </tr>\n",
       "    <tr>\n",
       "      <th>47</th>\n",
       "      <td>\\n\\n\\n\\nCon la caída del Muro de Berlín y el d...</td>\n",
       "      <td>NaN</td>\n",
       "      <td>https://www.eltiempo.com/opinion/columnistas/m...</td>\n",
       "      <td>eltiempo</td>\n",
       "      <td>www.eltiempo.com</td>\n",
       "    </tr>\n",
       "  </tbody>\n",
       "</table>\n",
       "<p>8 rows × 5 columns</p>\n",
       "</div>"
      ],
      "text/plain": [
       "                                                 body title  \\\n",
       "1   \\n\\n\\n\\nEl pasado 6 de diciembre se cumplieron...   NaN   \n",
       "7   \\n\\n\\n\\nAsí es ella: grande, segura, dedicada ...   NaN   \n",
       "20  \\n\\nUn emotivo partido se vivió este sábado en...   NaN   \n",
       "..                                                ...   ...   \n",
       "38  \\n\\nTeófilo Gutiérrez, Jarlan Barrera y Luis D...   NaN   \n",
       "45  \\n\\n\\n\\nPuede que la imagen de Petro manoseand...   NaN   \n",
       "47  \\n\\n\\n\\nCon la caída del Muro de Berlín y el d...   NaN   \n",
       "\n",
       "                                                  url newspaper_uid  \\\n",
       "1   https://www.eltiempo.com/opinion/editorial/una...      eltiempo   \n",
       "7   https://www.eltiempo.com/opinion/columnistas/p...      eltiempo   \n",
       "20  https://www.futbolred.com/futbol-colombiano/li...      eltiempo   \n",
       "..                                                ...           ...   \n",
       "38  https://www.futbolred.com/futbol-colombiano/li...      eltiempo   \n",
       "45  https://www.eltiempo.com/opinion/columnistas/m...      eltiempo   \n",
       "47  https://www.eltiempo.com/opinion/columnistas/m...      eltiempo   \n",
       "\n",
       "                 host  \n",
       "1    www.eltiempo.com  \n",
       "7    www.eltiempo.com  \n",
       "20  www.futbolred.com  \n",
       "..                ...  \n",
       "38  www.futbolred.com  \n",
       "45   www.eltiempo.com  \n",
       "47   www.eltiempo.com  \n",
       "\n",
       "[8 rows x 5 columns]"
      ]
     },
     "execution_count": 11,
     "metadata": {},
     "output_type": "execute_result"
    }
   ],
   "source": [
    "#De esta forma traemos solo los registros con True en la Mascara\n",
    "el_tiempo[missing_titles_mask]"
   ]
  },
  {
   "cell_type": "code",
   "execution_count": 14,
   "metadata": {},
   "outputs": [
    {
     "data": {
      "text/html": [
       "<div>\n",
       "<style scoped>\n",
       "    .dataframe tbody tr th:only-of-type {\n",
       "        vertical-align: middle;\n",
       "    }\n",
       "\n",
       "    .dataframe tbody tr th {\n",
       "        vertical-align: top;\n",
       "    }\n",
       "\n",
       "    .dataframe thead th {\n",
       "        text-align: right;\n",
       "    }\n",
       "</style>\n",
       "<table border=\"1\" class=\"dataframe\">\n",
       "  <thead>\n",
       "    <tr style=\"text-align: right;\">\n",
       "      <th></th>\n",
       "      <th>missing_titles</th>\n",
       "    </tr>\n",
       "  </thead>\n",
       "  <tbody>\n",
       "    <tr>\n",
       "      <th>1</th>\n",
       "      <td>una-pesadilla-venezolana-editorial-303060</td>\n",
       "    </tr>\n",
       "    <tr>\n",
       "      <th>7</th>\n",
       "      <td>grande-caterine-paula-moreno-303066</td>\n",
       "    </tr>\n",
       "    <tr>\n",
       "      <th>20</th>\n",
       "      <td>junior-vs-medellin-resumen-de-la-final-de-la-l...</td>\n",
       "    </tr>\n",
       "    <tr>\n",
       "      <th>...</th>\n",
       "      <td>...</td>\n",
       "    </tr>\n",
       "    <tr>\n",
       "      <th>38</th>\n",
       "      <td>teofilo-jarlan-y-luis-diaz-los-mejores-de-la-f...</td>\n",
       "    </tr>\n",
       "    <tr>\n",
       "      <th>45</th>\n",
       "      <td>epilogo-de-petro-y-la-chuspa-maria-isabel-rued...</td>\n",
       "    </tr>\n",
       "    <tr>\n",
       "      <th>47</th>\n",
       "      <td>el-centro-esta-out-mauricio-vargas-303072</td>\n",
       "    </tr>\n",
       "  </tbody>\n",
       "</table>\n",
       "<p>8 rows × 1 columns</p>\n",
       "</div>"
      ],
      "text/plain": [
       "                                       missing_titles\n",
       "1           una-pesadilla-venezolana-editorial-303060\n",
       "7                 grande-caterine-paula-moreno-303066\n",
       "20  junior-vs-medellin-resumen-de-la-final-de-la-l...\n",
       "..                                                ...\n",
       "38  teofilo-jarlan-y-luis-diaz-los-mejores-de-la-f...\n",
       "45  epilogo-de-petro-y-la-chuspa-maria-isabel-rued...\n",
       "47          el-centro-esta-out-mauricio-vargas-303072\n",
       "\n",
       "[8 rows x 1 columns]"
      ]
     },
     "execution_count": 14,
     "metadata": {},
     "output_type": "execute_result"
    }
   ],
   "source": [
    "# ?P<nombre_grupo> de esta forma nombramos grupos en expresiones regulares\n",
    "el_tiempo[missing_titles_mask]['url'].str.extract(r'(?P<missing_titles>[^/]+)$')"
   ]
  },
  {
   "cell_type": "code",
   "execution_count": null,
   "metadata": {},
   "outputs": [],
   "source": [
    "is_well_formed_link = re.compile(r'^https?://.+/.+$')"
   ]
  }
 ],
 "metadata": {
  "kernelspec": {
   "display_name": "Python 3",
   "language": "python",
   "name": "python3"
  },
  "language_info": {
   "codemirror_mode": {
    "name": "ipython",
    "version": 3
   },
   "file_extension": ".py",
   "mimetype": "text/x-python",
   "name": "python",
   "nbconvert_exporter": "python",
   "pygments_lexer": "ipython3",
   "version": "3.6.5"
  }
 },
 "nbformat": 4,
 "nbformat_minor": 2
}
