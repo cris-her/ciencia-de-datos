{
 "cells": [
  {
   "cell_type": "markdown",
   "metadata": {},
   "source": [
    "# Realizar solicitudes HTTP con Python"
   ]
  },
  {
   "cell_type": "markdown",
   "metadata": {},
   "source": [
    "Usaremos la librería **request**\n",
    "Permite los verbos:\n",
    "* GET\n",
    "* POST\n",
    "* PUT\n",
    "* DELETE\n",
    "* PATCH\n",
    "* OPTIONS"
   ]
  },
  {
   "cell_type": "code",
   "execution_count": 11,
   "metadata": {},
   "outputs": [
    {
     "name": "stdout",
     "output_type": "stream",
     "text": [
      "['__attrs__', '__bool__', '__class__', '__delattr__', '__dict__', '__dir__', '__doc__', '__enter__', '__eq__', '__exit__', '__format__', '__ge__', '__getattribute__', '__getstate__', '__gt__', '__hash__', '__init__', '__init_subclass__', '__iter__', '__le__', '__lt__', '__module__', '__ne__', '__new__', '__nonzero__', '__reduce__', '__reduce_ex__', '__repr__', '__setattr__', '__setstate__', '__sizeof__', '__str__', '__subclasshook__', '__weakref__', '_content', '_content_consumed', '_next', 'apparent_encoding', 'close', 'connection', 'content', 'cookies', 'elapsed', 'encoding', 'headers', 'history', 'is_permanent_redirect', 'is_redirect', 'iter_content', 'iter_lines', 'json', 'links', 'next', 'ok', 'raise_for_status', 'raw', 'reason', 'request', 'status_code', 'text', 'url']\n"
     ]
    }
   ],
   "source": [
    "import requests\n",
    "\n",
    "response = requests.get('https://jbeltranleon.co')\n",
    "\n",
    "#Docstring\n",
    "#response?\n",
    "\n",
    "#Source Code\n",
    "#response??\n",
    "\n",
    "#Metodos del objeto\n",
    "print(dir(response))"
   ]
  },
  {
   "cell_type": "code",
   "execution_count": 12,
   "metadata": {},
   "outputs": [
    {
     "data": {
      "text/plain": [
       "200"
      ]
     },
     "execution_count": 12,
     "metadata": {},
     "output_type": "execute_result"
    }
   ],
   "source": [
    "response.status_code"
   ]
  },
  {
   "cell_type": "code",
   "execution_count": 13,
   "metadata": {},
   "outputs": [
    {
     "data": {
      "text/plain": [
       "{'Server': 'GitHub.com', 'Content-Type': 'text/html; charset=utf-8', 'Last-Modified': 'Wed, 14 Nov 2018 02:12:56 GMT', 'ETag': 'W/\"5beb84a8-2c75\"', 'Access-Control-Allow-Origin': '*', 'Expires': 'Thu, 15 Nov 2018 03:10:55 GMT', 'Cache-Control': 'max-age=600', 'Content-Encoding': 'gzip', 'X-GitHub-Request-Id': '7DA4:34A8:2945051:3792820:5BECE167', 'Content-Length': '3734', 'Accept-Ranges': 'bytes', 'Date': 'Thu, 15 Nov 2018 03:03:37 GMT', 'Via': '1.1 varnish', 'Age': '94', 'Connection': 'keep-alive', 'X-Served-By': 'cache-mia17620-MIA', 'X-Cache': 'HIT', 'X-Cache-Hits': '1', 'X-Timer': 'S1542251018.617038,VS0,VE0', 'Vary': 'Accept-Encoding', 'X-Fastly-Request-ID': 'c51309607dc6a17f85f81195fc9b08077938bd10'}"
      ]
     },
     "execution_count": 13,
     "metadata": {},
     "output_type": "execute_result"
    }
   ],
   "source": [
    "response.headers"
   ]
  },
  {
   "cell_type": "code",
   "execution_count": 16,
   "metadata": {},
   "outputs": [
    {
     "data": {
      "text/plain": [
       "requests.structures.CaseInsensitiveDict"
      ]
     },
     "execution_count": 16,
     "metadata": {},
     "output_type": "execute_result"
    }
   ],
   "source": [
    "type(response.headers)"
   ]
  },
  {
   "cell_type": "code",
   "execution_count": 17,
   "metadata": {},
   "outputs": [
    {
     "data": {
      "text/plain": [
       "'Wed, 14 Nov 2018 02:12:56 GMT'"
      ]
     },
     "execution_count": 17,
     "metadata": {},
     "output_type": "execute_result"
    }
   ],
   "source": [
    "response.headers['Last-Modified']"
   ]
  },
  {
   "cell_type": "code",
   "execution_count": 18,
   "metadata": {},
   "outputs": [
    {
     "data": {
      "text/plain": [
       "'<!doctype html>\\n<!--\\n  Minimal Mistakes Jekyll Theme 4.13.0 by Michael Rose\\n  Copyright 2013-2018 Michael Rose - mademistakes.com | @mmistakes\\n  Free for personal and commercial use under the MIT license\\n  https://github.com/mmistakes/minimal-mistakes/blob/master/LICENSE.txt\\n-->\\n<html lang=\"es\" class=\"no-js\">\\n  <head>\\n    <meta charset=\"utf-8\">\\n\\n<!-- begin _includes/seo.html --><title>Jhon Beltrán</title>\\n<meta name=\"description\" content=\"Bienvenidos a la gh-page de un estudiante de universidad publica y de plataforma online #Ucundinamarca #Platzi.\">\\n\\n\\n\\n<meta property=\"og:type\" content=\"website\">\\n<meta property=\"og:locale\" content=\"es_CO\">\\n<meta property=\"og:site_name\" content=\"Jhon Beltrán\">\\n<meta property=\"og:title\" content=\"Jhon Beltrán\">\\n<meta property=\"og:url\" content=\"http://jbeltranleon.co/\">\\n\\n\\n\\n\\n  <meta property=\"og:image\" content=\"http://jbeltranleon.co/assets/images/index.jpg\">\\n\\n\\n\\n  <meta name=\"twitter:site\" content=\"@jbeltranleon\">\\n  <meta name=\"twitter:title\" content=\"Jhon Beltrán\">\\n  <meta name=\"twitter:description\" content=\"Bienvenidos a la gh-page de un estudiante de universidad publica y de plataforma online #Ucundinamarca #Platzi.\">\\n  <meta name=\"twitter:url\" content=\"http://jbeltranleon.co/\">\\n\\n  \\n    <meta name=\"twitter:card\" content=\"summary_large_image\">\\n    <meta name=\"twitter:image\" content=\"http://jbeltranleon.co/assets/images/index.jpg\">\\n  \\n\\n  \\n\\n\\n\\n\\n\\n\\n\\n  \\n\\n  \\n\\n\\n<link rel=\"canonical\" href=\"http://jbeltranleon.co/\">\\n\\n\\n\\n\\n\\n  <script type=\"application/ld+json\">\\n    {\\n      \"@context\": \"http://schema.org\",\\n      \"@type\": \"Organization\",\\n      \"url\": \"http://jbeltranleon.co\",\\n      \"logo\": \"http://jbeltranleon.co/assets/images/teaser.jpg\"\\n    }\\n  </script>\\n\\n\\n\\n  <script type=\"application/ld+json\">\\n    {\\n      \"@context\": \"http://schema.org\",\\n      \"@type\": \"Person\",\\n      \"name\": \"Jhon Fredy Beltrán León\",\\n      \"url\": \"http://jbeltranleon.co\",\\n      \"sameAs\": [\"https://twitter.com/jbeltranleon\",\"https://facebook.com/jbeltranleon\",\"https://instagram.com/jbeltranleon\",\"https://www.linkedin.com/in/jbeltranleon\",\"https://plus.google.com/+JhonFredyBeltránLeón\"]\\n    }\\n  </script>\\n\\n\\n\\n  <meta name=\"google-site-verification\" content=\"googled4b7816bf1ee524a\" />\\n\\n\\n\\n\\n\\n<!-- end _includes/seo.html -->\\n\\n\\n<link href=\"http://eepurl.com/dIiqZ5\" type=\"application/atom+xml\" rel=\"alternate\" title=\"Jhon Beltrán Feed\">\\n\\n<!-- http://t.co/dKP3o1e -->\\n<meta name=\"HandheldFriendly\" content=\"True\">\\n<meta name=\"MobileOptimized\" content=\"320\">\\n<meta name=\"viewport\" content=\"width=device-width, initial-scale=1.0\">\\n\\n<script>\\n  document.documentElement.className = document.documentElement.className.replace(/\\\\bno-js\\\\b/g, \\'\\') + \\' js \\';\\n</script>\\n\\n<!-- For all browsers -->\\n<link rel=\"stylesheet\" href=\"/assets/css/main.css\">\\n\\n<!--[if lte IE 9]>\\n  <style>\\n    /* old IE unsupported flexbox fixes */\\n    .greedy-nav .site-title {\\n      padding-right: 3em;\\n    }\\n    .greedy-nav button {\\n      position: absolute;\\n      top: 0;\\n      right: 0;\\n      height: 100%;\\n    }\\n  </style>\\n<![endif]-->\\n\\n\\n    <!-- start custom head snippets -->\\n\\n<!-- insert favicons. use https://realfavicongenerator.net/ -->\\n<link rel=\"shortcut icon\" type=\"image/png\" href=\"favicon.png\">\\n<!-- end custom head snippets -->\\n\\n  </head>\\n\\n  <body class=\"layout--home\">\\n\\n    <!--[if lt IE 9]>\\n<div class=\"notice--danger align-center\" style=\"margin: 0;\">You are using an <strong>outdated</strong> browser. Please <a href=\"https://browsehappy.com/\">upgrade your browser</a> to improve your experience.</div>\\n<![endif]-->\\n\\n    <div class=\"masthead\">\\n  <div class=\"masthead__inner-wrap\">\\n    <div class=\"masthead__menu\">\\n      <nav id=\"site-nav\" class=\"greedy-nav\">\\n        <a class=\"site-title\" href=\"/\">Jhon Beltrán</a>\\n        <ul class=\"visible-links\"><li class=\"masthead__menu-item\">\\n              <a href=\"/\" >Blog</a>\\n            </li><li class=\"masthead__menu-item\">\\n              <a href=\"/acerca-de-mi\" >Acerca de mí</a>\\n            </li><li class=\"masthead__menu-item\">\\n              <a href=\"https://platzi.com/@jbeltranleon\" >@jbeltranleon on Platzi</a>\\n            </li></ul>\\n        \\n        <button class=\"search__toggle\" type=\"button\">\\n          <svg class=\"icon\" width=\"16\" height=\"16\" xmlns=\"http://www.w3.org/2000/svg\" viewBox=\"0 0 15.99 16\">\\n            <path d=\"M15.5,13.12L13.19,10.8a1.69,1.69,0,0,0-1.28-.55l-0.06-.06A6.5,6.5,0,0,0,5.77,0,6.5,6.5,0,0,0,2.46,11.59a6.47,6.47,0,0,0,7.74.26l0.05,0.05a1.65,1.65,0,0,0,.5,1.24l2.38,2.38A1.68,1.68,0,0,0,15.5,13.12ZM6.4,2A4.41,4.41,0,1,1,2,6.4,4.43,4.43,0,0,1,6.4,2Z\" transform=\"translate(-.01)\"></path>\\n          </svg>\\n        </button>\\n        \\n        <button class=\"greedy-nav__toggle hidden\" type=\"button\">\\n          <span class=\"visually-hidden\">Toggle Menu</span>\\n          <div class=\"navicon\"></div>\\n        </button>\\n        <ul class=\"hidden-links hidden\"></ul>\\n      </nav>\\n    </div>\\n  </div>\\n</div>\\n\\n\\n    <div class=\"initial-content\">\\n      \\n  \\n\\n\\n\\n\\n\\n\\n\\n\\n\\n\\n\\n<div class=\"page__hero--overlay\"\\n  style=\" background-image: linear-gradient(rgba(0, 0, 0, 0.7), rgba(0, 0, 0, 0.7)), url(\\'/assets/images/index.jpg\\');\"\\n>\\n  \\n    <div class=\"wrapper\">\\n      <h1 id=\"page-title\" class=\"page__title\" itemprop=\"headline\">\\n        \\n          Jhon Beltrán\\n\\n        \\n      </h1>\\n      \\n      \\n      \\n      \\n        <p>\\n        \\n          <a href=\"https://github.com/jbeltranleon/\" class=\"btn btn--light-outline btn--large\">Conoce mis Repositorios</a>\\n        \\n      \\n    </div>\\n  \\n  \\n    <span class=\"page__hero-caption\">Google Cloud Day 2018 - @jbeltranleon\\n</span>\\n  \\n</div>\\n\\n\\n\\n\\n\\n<div id=\"main\" role=\"main\">\\n  \\n  <div class=\"sidebar sticky\">\\n  \\n  \\n    \\n      \\n      \\n      \\n    \\n    \\n      \\n\\n<nav class=\"nav__list\">\\n  \\n  <input id=\"ac-toc\" name=\"accordion-toc\" type=\"checkbox\" />\\n  <label for=\"ac-toc\">Toggle Menu</label>\\n  <ul class=\"nav__items\">\\n    \\n      <li>\\n        \\n          <span class=\"nav__sub-title\">Proyectos</span>\\n        \\n\\n        \\n        <ul>\\n          \\n            \\n            \\n\\n            \\n            \\n\\n            <li><a href=\"/proyectos-python/\" class=\"\">Python</a></li>\\n          \\n        </ul>\\n        \\n      </li>\\n    \\n  </ul>\\n</nav>\\n    \\n  \\n  </div>\\n\\n\\n  <div class=\"archive\">\\n    \\n    \\n\\n<h3 class=\"archive__subtitle\">Entradas recientes</h3>\\n\\n\\n  \\n\\n\\n\\n<div class=\"list__item\">\\n  <article class=\"archive__item\" itemscope itemtype=\"http://schema.org/CreativeWork\">\\n    \\n    <h2 class=\"archive__item-title\" itemprop=\"headline\">\\n      \\n        <a href=\"/python/2018/10/12/karaoke-de-un-elefante-se-balanceaba-con-python3-6-asynchronous-generators.html\" rel=\"permalink\">Karaoke de “Un Elefante se Balanceaba” con Python3.6 (Asynchronous generators)\\n</a>\\n      \\n    </h2>\\n    \\n      <p class=\"page__meta\"><i class=\"far fa-clock\" aria-hidden=\"true\"></i> \\n\\n\\n\\n\\n  1 minuto de lectura\\n</p>\\n    \\n    <p class=\"archive__item-excerpt\" itemprop=\"description\">¿Alguna vez han necesitado cantar la asombrosa canción de “Un Elefante se Balanceaba” y no han tenido a la mano la letra?\\n</p>\\n  </article>\\n</div>\\n\\n  \\n\\n\\n\\n<div class=\"list__item\">\\n  <article class=\"archive__item\" itemscope itemtype=\"http://schema.org/CreativeWork\">\\n    \\n    <h2 class=\"archive__item-title\" itemprop=\"headline\">\\n      \\n        <a href=\"/python/machine-learning/2018/09/29/machine-learning-aplicado-python-platzi.html\" rel=\"permalink\">Lo bueno del curso de Machine Learning Aplicado con Python de Platzi\\n</a>\\n      \\n    </h2>\\n    \\n      <p class=\"page__meta\"><i class=\"far fa-clock\" aria-hidden=\"true\"></i> \\n\\n\\n\\n\\n  menos de 1 minuto de lectura\\n</p>\\n    \\n    <p class=\"archive__item-excerpt\" itemprop=\"description\">Conoce mi opinión acerca del curso de Machine Learning Aplicado con Python de Platzi, ¿Que tan bueno es? ¿Que cosas logra abarcar? ¿Que sigue luego de ver es...</p>\\n  </article>\\n</div>\\n\\n  \\n\\n\\n\\n<div class=\"list__item\">\\n  <article class=\"archive__item\" itemscope itemtype=\"http://schema.org/CreativeWork\">\\n    \\n    <h2 class=\"archive__item-title\" itemprop=\"headline\">\\n      \\n        <a href=\"/python/bash/2017/07/19/dolar-terminal.html\" rel=\"permalink\">¿Cómo saber el valor del dolar desde la terminal?\\n</a>\\n      \\n    </h2>\\n    \\n      <p class=\"page__meta\"><i class=\"far fa-clock\" aria-hidden=\"true\"></i> \\n\\n\\n\\n\\n  2 minuto de lectura\\n</p>\\n    \\n    <p class=\"archive__item-excerpt\" itemprop=\"description\">En esta ocación con un pequeño script en python3 les voy a mostar como le hice scraping a una pagina para obtener el valor del dolar en pesos (COP) en cualqu...</p>\\n  </article>\\n</div>\\n\\n\\n\\n\\n\\n  </div>\\n</div>\\n    </div>\\n\\n    \\n      <div class=\"search-content\">\\n        <div class=\"search-content__inner-wrap\"><input type=\"text\" id=\"search\" class=\"search-input\" tabindex=\"-1\" placeholder=\"Enter your search term...\" />\\n    <div id=\"results\" class=\"results\"></div></div>\\n      </div>\\n    \\n\\n    <div class=\"page__footer\">\\n      <footer>\\n        <!-- start custom footer snippets -->\\n\\n<!-- end custom footer snippets -->\\n        <div class=\"page__footer-follow\">\\n  <ul class=\"social-icons\">\\n    \\n      <li><strong>Seguir:</strong></li>\\n    \\n\\n    \\n      \\n        \\n          <li><a href=\"mailto:jbeltranleon@gmail.com\"><i class=\"fas fa-fw fa-envelope-square\" aria-hidden=\"true\"></i> Email</a></li>\\n        \\n      \\n        \\n          <li><a href=\"https://www.linkedin.com/in/jbeltranleon\"><i class=\"fab fa-linkedin\" aria-hidden=\"true\"></i> LinkedIn</a></li>\\n        \\n      \\n        \\n          <li><a href=\"https://www.instagram.com/jbeltranleon\"><i class=\"fab fa-instagram\" aria-hidden=\"true\"></i> Instagram</a></li>\\n        \\n      \\n        \\n          <li><a href=\"https://medium.com/@jbeltranleon\"><i class=\"fab fa-medium\"\" aria-hidden=\"true\"></i> Medium</a></li>\\n        \\n      \\n        \\n          <li><a href=\"https://twitter.com/jbeltranleon\"><i class=\"fab fa-twitter-square\" aria-hidden=\"true\"></i> Twitter</a></li>\\n        \\n      \\n        \\n          <li><a href=\"https://www.facebook.com/jbeltranleon\"><i class=\"fab fa-facebook-square\" aria-hidden=\"true\"></i> Facebook</a></li>\\n        \\n      \\n        \\n          <li><a href=\"https://github.com/jbeltranleon\"><i class=\"fab fa-github-square\" aria-hidden=\"true\"></i> GitHub</a></li>\\n        \\n      \\n        \\n          <li><a href=\"https://gitlab.com/jbeltranleon\"><i class=\"fab fa-gitlab\" aria-hidden=\"true\"></i> GitLab</a></li>\\n        \\n      \\n    \\n\\n    <li><a href=\"http://eepurl.com/dIiqZ5\"><i class=\"fas fa-fw fa-rss-square\" aria-hidden=\"true\"></i> Feed</a></li>\\n  </ul>\\n</div>\\n\\n<div class=\"page__footer-copyright\">&copy; 2018 Jhon Fredy Beltrán León. Powered by <a href=\"https://jekyllrb.com\" rel=\"nofollow\">Jekyll</a> &amp; <a href=\"https://mademistakes.com/work/minimal-mistakes-jekyll-theme/\" rel=\"nofollow\">Minimal Mistakes</a>.</div>\\n\\n      </footer>\\n    </div>\\n\\n    \\n  <script src=\"/assets/js/main.min.js\"></script>\\n  <script src=\"https://use.fontawesome.com/releases/v5.2.0/js/all.js\"></script>\\n\\n\\n\\n\\n<script src=\"/assets/js/lunr/lunr.min.js\"></script>\\n<script src=\"/assets/js/lunr/lunr-store.js\"></script>\\n<script src=\"/assets/js/lunr/lunr-en.js\"></script>\\n\\n\\n\\n\\n  <!-- Global site tag (gtag.js) - Google Analytics -->\\n<script async src=\"https://www.googletagmanager.com/gtag/js?id=UA-126479040-1\"></script>\\n<script>\\n  window.dataLayer = window.dataLayer || [];\\n  function gtag(){dataLayer.push(arguments);}\\n  gtag(\\'js\\', new Date());\\n\\n  gtag(\\'config\\', \\'UA-126479040-1\\', { \\'anonymize_ip\\': false});\\n</script>\\n\\n\\n\\n\\n\\n\\n    \\n  \\n\\n\\n\\n  </body>\\n</html>'"
      ]
     },
     "execution_count": 18,
     "metadata": {},
     "output_type": "execute_result"
    }
   ],
   "source": [
    "response.text"
   ]
  },
  {
   "cell_type": "code",
   "execution_count": null,
   "metadata": {},
   "outputs": [],
   "source": []
  }
 ],
 "metadata": {
  "kernelspec": {
   "display_name": "Python 3",
   "language": "python",
   "name": "python3"
  },
  "language_info": {
   "codemirror_mode": {
    "name": "ipython",
    "version": 3
   },
   "file_extension": ".py",
   "mimetype": "text/x-python",
   "name": "python",
   "nbconvert_exporter": "python",
   "pygments_lexer": "ipython3",
   "version": "3.6.5"
  }
 },
 "nbformat": 4,
 "nbformat_minor": 2
}
