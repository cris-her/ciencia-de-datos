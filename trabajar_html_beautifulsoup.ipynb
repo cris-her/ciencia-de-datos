{
 "cells": [
  {
   "cell_type": "markdown",
   "metadata": {},
   "source": [
    "# ¿Cómo trabajar con un documento HTML?"
   ]
  },
  {
   "cell_type": "markdown",
   "metadata": {},
   "source": [
    "**BeautifulSoup** convierte el string que entrega el **response.text** en un árbol de nodos, podremos realizar consultas basandonos en los selectores **CSS**"
   ]
  },
  {
   "cell_type": "code",
   "execution_count": 26,
   "metadata": {},
   "outputs": [
    {
     "data": {
      "text/plain": [
       "'jbeltranleon (Jhon Fredy Beltran) · GitHub'"
      ]
     },
     "execution_count": 26,
     "metadata": {},
     "output_type": "execute_result"
    }
   ],
   "source": [
    "import requests\n",
    "import bs4\n",
    "\n",
    "response = requests.get('https://github.com/jbeltranleon')\n",
    "soup = bs4.BeautifulSoup(response.text, 'html.parser')\n",
    "\n",
    "soup.title.text"
   ]
  },
  {
   "cell_type": "markdown",
   "metadata": {},
   "source": [
    "### Usando un selector"
   ]
  },
  {
   "cell_type": "code",
   "execution_count": 27,
   "metadata": {},
   "outputs": [
    {
     "data": {
      "text/plain": [
       "[<meta content=\"Desarrollador con Python, me encanta todo el mundo del Big Data y del Machine Learning - jbeltranleon\" name=\"description\"/>]"
      ]
     },
     "execution_count": 27,
     "metadata": {},
     "output_type": "execute_result"
    }
   ],
   "source": [
    "soup.select('meta[name=description]')"
   ]
  },
  {
   "cell_type": "code",
   "execution_count": 28,
   "metadata": {},
   "outputs": [
    {
     "data": {
      "text/plain": [
       "'Desarrollador con Python, me encanta todo el mundo del Big Data y del Machine Learning - jbeltranleon'"
      ]
     },
     "execution_count": 28,
     "metadata": {},
     "output_type": "execute_result"
    }
   ],
   "source": [
    "soup.select('meta[name=description]')[0]['content']"
   ]
  },
  {
   "cell_type": "code",
   "execution_count": 32,
   "metadata": {},
   "outputs": [],
   "source": [
    "repositories_elements = soup.select('.js-repo')"
   ]
  },
  {
   "cell_type": "code",
   "execution_count": 33,
   "metadata": {},
   "outputs": [
    {
     "data": {
      "text/plain": [
       "[<span class=\"repo js-repo\" title=\"information-layer8\">information-layer8</span>,\n",
       " <span class=\"repo js-repo\" title=\"modelacion-python-u\">modelacion-python-u</span>,\n",
       " <span class=\"repo js-repo\" title=\"data-science-professional\">data-science-professional</span>,\n",
       " <span class=\"repo js-repo\" title=\"machine-learning-platzi\">machine-learning-platzi</span>,\n",
       " <span class=\"repo js-repo\" title=\"python-basics\">python-basics</span>,\n",
       " <span class=\"repo js-repo\" title=\"polly-chatbot-messenger\">polly-chatbot-messenger</span>]"
      ]
     },
     "execution_count": 33,
     "metadata": {},
     "output_type": "execute_result"
    }
   ],
   "source": [
    "repositories_elements"
   ]
  },
  {
   "cell_type": "code",
   "execution_count": 34,
   "metadata": {},
   "outputs": [
    {
     "data": {
      "text/plain": [
       "['information-layer8',\n",
       " 'modelacion-python-u',\n",
       " 'data-science-professional',\n",
       " 'machine-learning-platzi',\n",
       " 'python-basics',\n",
       " 'polly-chatbot-messenger']"
      ]
     },
     "execution_count": 34,
     "metadata": {},
     "output_type": "execute_result"
    }
   ],
   "source": [
    "repositories = [repository['title'] for repository in repositories_elements]\n",
    "repositories"
   ]
  }
 ],
 "metadata": {
  "kernelspec": {
   "display_name": "Python 3",
   "language": "python",
   "name": "python3"
  },
  "language_info": {
   "codemirror_mode": {
    "name": "ipython",
    "version": 3
   },
   "file_extension": ".py",
   "mimetype": "text/x-python",
   "name": "python",
   "nbconvert_exporter": "python",
   "pygments_lexer": "ipython3",
   "version": "3.6.5"
  }
 },
 "nbformat": 4,
 "nbformat_minor": 2
}
