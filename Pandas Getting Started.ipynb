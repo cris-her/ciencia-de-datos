{
 "cells": [
  {
   "cell_type": "markdown",
   "metadata": {},
   "source": [
    "# Series"
   ]
  },
  {
   "cell_type": "code",
   "execution_count": 1,
   "metadata": {},
   "outputs": [],
   "source": [
    "import pandas as pd"
   ]
  },
  {
   "cell_type": "code",
   "execution_count": 2,
   "metadata": {},
   "outputs": [
    {
     "data": {
      "text/plain": [
       "0    1\n",
       "1    2\n",
       "2    3\n",
       "dtype: int64"
      ]
     },
     "execution_count": 2,
     "metadata": {},
     "output_type": "execute_result"
    }
   ],
   "source": [
    "series_test = pd.Series([1,2,3])\n",
    "series_test"
   ]
  },
  {
   "cell_type": "code",
   "execution_count": 3,
   "metadata": {},
   "outputs": [
    {
     "data": {
      "text/plain": [
       "0    100.0\n",
       "1    200.0\n",
       "2    300.0\n",
       "dtype: float64"
      ]
     },
     "execution_count": 3,
     "metadata": {},
     "output_type": "execute_result"
    }
   ],
   "source": [
    "series_test2 = pd.Series([100,200,300],dtype=float)\n",
    "series_test2"
   ]
  },
  {
   "cell_type": "code",
   "execution_count": 4,
   "metadata": {},
   "outputs": [
    {
     "name": "stdout",
     "output_type": "stream",
     "text": [
      "Ej: Ventas por año\n"
     ]
    },
    {
     "data": {
      "text/plain": [
       "2016    32\n",
       "2017    30\n",
       "2018    34\n",
       "dtype: int64"
      ]
     },
     "execution_count": 4,
     "metadata": {},
     "output_type": "execute_result"
    }
   ],
   "source": [
    "series_test3 = pd.Series({2016:32, 2017:30, 2018:34})\n",
    "print(\"Ej: Ventas por año\")\n",
    "series_test3"
   ]
  },
  {
   "cell_type": "code",
   "execution_count": 5,
   "metadata": {},
   "outputs": [
    {
     "name": "stdout",
     "output_type": "stream",
     "text": [
      "las ventas en el año 2016 fueron de: 32\n"
     ]
    }
   ],
   "source": [
    "print(f'las ventas en el año 2016 fueron de: {series_test3[2016]}')"
   ]
  },
  {
   "cell_type": "markdown",
   "metadata": {},
   "source": [
    "# DataFrames"
   ]
  },
  {
   "cell_type": "code",
   "execution_count": 6,
   "metadata": {},
   "outputs": [
    {
     "data": {
      "text/html": [
       "<div>\n",
       "<style scoped>\n",
       "    .dataframe tbody tr th:only-of-type {\n",
       "        vertical-align: middle;\n",
       "    }\n",
       "\n",
       "    .dataframe tbody tr th {\n",
       "        vertical-align: top;\n",
       "    }\n",
       "\n",
       "    .dataframe thead th {\n",
       "        text-align: right;\n",
       "    }\n",
       "</style>\n",
       "<table border=\"1\" class=\"dataframe\">\n",
       "  <thead>\n",
       "    <tr style=\"text-align: right;\">\n",
       "      <th></th>\n",
       "      <th>0</th>\n",
       "      <th>1</th>\n",
       "      <th>2</th>\n",
       "      <th>3</th>\n",
       "    </tr>\n",
       "  </thead>\n",
       "  <tbody>\n",
       "    <tr>\n",
       "      <th>0</th>\n",
       "      <td>12</td>\n",
       "      <td>34</td>\n",
       "      <td>35</td>\n",
       "      <td>34</td>\n",
       "    </tr>\n",
       "    <tr>\n",
       "      <th>1</th>\n",
       "      <td>11</td>\n",
       "      <td>37</td>\n",
       "      <td>38</td>\n",
       "      <td>23</td>\n",
       "    </tr>\n",
       "    <tr>\n",
       "      <th>2</th>\n",
       "      <td>16</td>\n",
       "      <td>38</td>\n",
       "      <td>60</td>\n",
       "      <td>28</td>\n",
       "    </tr>\n",
       "  </tbody>\n",
       "</table>\n",
       "</div>"
      ],
      "text/plain": [
       "    0   1   2   3\n",
       "0  12  34  35  34\n",
       "1  11  37  38  23\n",
       "2  16  38  60  28"
      ]
     },
     "execution_count": 6,
     "metadata": {},
     "output_type": "execute_result"
    }
   ],
   "source": [
    "frame_test = pd.DataFrame([[12, 34, 35, 34],\n",
    "                           [11, 37, 38, 23],\n",
    "                           [16, 38, 60, 28]])\n",
    "frame_test"
   ]
  },
  {
   "cell_type": "code",
   "execution_count": 7,
   "metadata": {},
   "outputs": [
    {
     "data": {
      "text/html": [
       "<div>\n",
       "<style scoped>\n",
       "    .dataframe tbody tr th:only-of-type {\n",
       "        vertical-align: middle;\n",
       "    }\n",
       "\n",
       "    .dataframe tbody tr th {\n",
       "        vertical-align: top;\n",
       "    }\n",
       "\n",
       "    .dataframe thead th {\n",
       "        text-align: right;\n",
       "    }\n",
       "</style>\n",
       "<table border=\"1\" class=\"dataframe\">\n",
       "  <thead>\n",
       "    <tr style=\"text-align: right;\">\n",
       "      <th></th>\n",
       "      <th>2015</th>\n",
       "      <th>2016</th>\n",
       "      <th>2017</th>\n",
       "      <th>2018</th>\n",
       "    </tr>\n",
       "  </thead>\n",
       "  <tbody>\n",
       "    <tr>\n",
       "      <th>0</th>\n",
       "      <td>12</td>\n",
       "      <td>34</td>\n",
       "      <td>35</td>\n",
       "      <td>34</td>\n",
       "    </tr>\n",
       "    <tr>\n",
       "      <th>1</th>\n",
       "      <td>11</td>\n",
       "      <td>37</td>\n",
       "      <td>38</td>\n",
       "      <td>23</td>\n",
       "    </tr>\n",
       "    <tr>\n",
       "      <th>2</th>\n",
       "      <td>16</td>\n",
       "      <td>38</td>\n",
       "      <td>60</td>\n",
       "      <td>28</td>\n",
       "    </tr>\n",
       "  </tbody>\n",
       "</table>\n",
       "</div>"
      ],
      "text/plain": [
       "   2015  2016  2017  2018\n",
       "0    12    34    35    34\n",
       "1    11    37    38    23\n",
       "2    16    38    60    28"
      ]
     },
     "execution_count": 7,
     "metadata": {},
     "output_type": "execute_result"
    }
   ],
   "source": [
    "#columnas\n",
    "frame_test2 = pd.DataFrame([[12, 34, 35, 34],\n",
    "                           [11, 37, 38, 23],\n",
    "                           [16, 38, 60, 28]], columns=[2015,2016,2017,2018])\n",
    "frame_test2"
   ]
  },
  {
   "cell_type": "code",
   "execution_count": 8,
   "metadata": {},
   "outputs": [
    {
     "name": "stdout",
     "output_type": "stream",
     "text": [
      "Ventas de cada año por quarter\n"
     ]
    },
    {
     "data": {
      "text/html": [
       "<div>\n",
       "<style scoped>\n",
       "    .dataframe tbody tr th:only-of-type {\n",
       "        vertical-align: middle;\n",
       "    }\n",
       "\n",
       "    .dataframe tbody tr th {\n",
       "        vertical-align: top;\n",
       "    }\n",
       "\n",
       "    .dataframe thead th {\n",
       "        text-align: right;\n",
       "    }\n",
       "</style>\n",
       "<table border=\"1\" class=\"dataframe\">\n",
       "  <thead>\n",
       "    <tr style=\"text-align: right;\">\n",
       "      <th></th>\n",
       "      <th>2016</th>\n",
       "      <th>2017</th>\n",
       "      <th>2018</th>\n",
       "    </tr>\n",
       "  </thead>\n",
       "  <tbody>\n",
       "    <tr>\n",
       "      <th>0</th>\n",
       "      <td>12</td>\n",
       "      <td>11</td>\n",
       "      <td>16</td>\n",
       "    </tr>\n",
       "    <tr>\n",
       "      <th>1</th>\n",
       "      <td>34</td>\n",
       "      <td>37</td>\n",
       "      <td>38</td>\n",
       "    </tr>\n",
       "    <tr>\n",
       "      <th>2</th>\n",
       "      <td>35</td>\n",
       "      <td>38</td>\n",
       "      <td>60</td>\n",
       "    </tr>\n",
       "    <tr>\n",
       "      <th>3</th>\n",
       "      <td>34</td>\n",
       "      <td>23</td>\n",
       "      <td>28</td>\n",
       "    </tr>\n",
       "  </tbody>\n",
       "</table>\n",
       "</div>"
      ],
      "text/plain": [
       "   2016  2017  2018\n",
       "0    12    11    16\n",
       "1    34    37    38\n",
       "2    35    38    60\n",
       "3    34    23    28"
      ]
     },
     "execution_count": 8,
     "metadata": {},
     "output_type": "execute_result"
    }
   ],
   "source": [
    "#columna: fila\n",
    "frame_test1 = pd.DataFrame({2016: [12, 34, 35, 34],\n",
    "                            2017: [11, 37, 38, 23],\n",
    "                            2018: [16, 38, 60, 28],})\n",
    "print('Ventas de cada año por quarter')\n",
    "frame_test1"
   ]
  },
  {
   "cell_type": "code",
   "execution_count": 9,
   "metadata": {},
   "outputs": [
    {
     "name": "stdout",
     "output_type": "stream",
     "text": [
      "Ventas de cada año por quarter\n"
     ]
    },
    {
     "data": {
      "text/html": [
       "<div>\n",
       "<style scoped>\n",
       "    .dataframe tbody tr th:only-of-type {\n",
       "        vertical-align: middle;\n",
       "    }\n",
       "\n",
       "    .dataframe tbody tr th {\n",
       "        vertical-align: top;\n",
       "    }\n",
       "\n",
       "    .dataframe thead th {\n",
       "        text-align: right;\n",
       "    }\n",
       "</style>\n",
       "<table border=\"1\" class=\"dataframe\">\n",
       "  <thead>\n",
       "    <tr style=\"text-align: right;\">\n",
       "      <th></th>\n",
       "      <th>2016</th>\n",
       "      <th>2017</th>\n",
       "      <th>2018</th>\n",
       "    </tr>\n",
       "  </thead>\n",
       "  <tbody>\n",
       "    <tr>\n",
       "      <th>Q1</th>\n",
       "      <td>12</td>\n",
       "      <td>11</td>\n",
       "      <td>16</td>\n",
       "    </tr>\n",
       "    <tr>\n",
       "      <th>Q2</th>\n",
       "      <td>34</td>\n",
       "      <td>37</td>\n",
       "      <td>38</td>\n",
       "    </tr>\n",
       "    <tr>\n",
       "      <th>Q3</th>\n",
       "      <td>35</td>\n",
       "      <td>38</td>\n",
       "      <td>60</td>\n",
       "    </tr>\n",
       "    <tr>\n",
       "      <th>Q4</th>\n",
       "      <td>34</td>\n",
       "      <td>23</td>\n",
       "      <td>28</td>\n",
       "    </tr>\n",
       "  </tbody>\n",
       "</table>\n",
       "</div>"
      ],
      "text/plain": [
       "    2016  2017  2018\n",
       "Q1    12    11    16\n",
       "Q2    34    37    38\n",
       "Q3    35    38    60\n",
       "Q4    34    23    28"
      ]
     },
     "execution_count": 9,
     "metadata": {},
     "output_type": "execute_result"
    }
   ],
   "source": [
    "#columna: indice:fila\n",
    "frame_test_3 = pd.DataFrame({2016: {'Q1': 12, 'Q2': 34, 'Q3': 35, 'Q4': 34},\n",
    "                             2017: {'Q1': 11, 'Q2': 37, 'Q3': 38, 'Q4': 23},\n",
    "                             2018: {'Q1': 16, 'Q2': 38, 'Q3': 60, 'Q4': 28},})\n",
    "print('Ventas de cada año por quarter')\n",
    "frame_test_3"
   ]
  },
  {
   "cell_type": "markdown",
   "metadata": {},
   "source": [
    "## Indices y seleccion en DataFrames"
   ]
  },
  {
   "cell_type": "markdown",
   "metadata": {},
   "source": [
    "### Dictionary Like"
   ]
  },
  {
   "cell_type": "code",
   "execution_count": 10,
   "metadata": {},
   "outputs": [
    {
     "data": {
      "text/plain": [
       "Q1    12\n",
       "Q2    34\n",
       "Q3    35\n",
       "Q4    34\n",
       "Name: 2016, dtype: int64"
      ]
     },
     "execution_count": 10,
     "metadata": {},
     "output_type": "execute_result"
    }
   ],
   "source": [
    "año_2016 = frame_test_3[2016]\n",
    "año_2016"
   ]
  },
  {
   "cell_type": "code",
   "execution_count": 11,
   "metadata": {},
   "outputs": [
    {
     "data": {
      "text/plain": [
       "pandas.core.series.Series"
      ]
     },
     "execution_count": 11,
     "metadata": {},
     "output_type": "execute_result"
    }
   ],
   "source": [
    "type(año_2016)"
   ]
  },
  {
   "cell_type": "code",
   "execution_count": 12,
   "metadata": {},
   "outputs": [
    {
     "data": {
      "text/html": [
       "<div>\n",
       "<style scoped>\n",
       "    .dataframe tbody tr th:only-of-type {\n",
       "        vertical-align: middle;\n",
       "    }\n",
       "\n",
       "    .dataframe tbody tr th {\n",
       "        vertical-align: top;\n",
       "    }\n",
       "\n",
       "    .dataframe thead th {\n",
       "        text-align: right;\n",
       "    }\n",
       "</style>\n",
       "<table border=\"1\" class=\"dataframe\">\n",
       "  <thead>\n",
       "    <tr style=\"text-align: right;\">\n",
       "      <th></th>\n",
       "      <th>2017</th>\n",
       "      <th>2018</th>\n",
       "    </tr>\n",
       "  </thead>\n",
       "  <tbody>\n",
       "    <tr>\n",
       "      <th>Q1</th>\n",
       "      <td>11</td>\n",
       "      <td>16</td>\n",
       "    </tr>\n",
       "    <tr>\n",
       "      <th>Q2</th>\n",
       "      <td>37</td>\n",
       "      <td>38</td>\n",
       "    </tr>\n",
       "    <tr>\n",
       "      <th>Q3</th>\n",
       "      <td>38</td>\n",
       "      <td>60</td>\n",
       "    </tr>\n",
       "    <tr>\n",
       "      <th>Q4</th>\n",
       "      <td>23</td>\n",
       "      <td>28</td>\n",
       "    </tr>\n",
       "  </tbody>\n",
       "</table>\n",
       "</div>"
      ],
      "text/plain": [
       "    2017  2018\n",
       "Q1    11    16\n",
       "Q2    37    38\n",
       "Q3    38    60\n",
       "Q4    23    28"
      ]
     },
     "execution_count": 12,
     "metadata": {},
     "output_type": "execute_result"
    }
   ],
   "source": [
    "ultimos_años = frame_test_3[[2017, 2018]]\n",
    "ultimos_años"
   ]
  },
  {
   "cell_type": "code",
   "execution_count": 13,
   "metadata": {},
   "outputs": [
    {
     "data": {
      "text/plain": [
       "pandas.core.frame.DataFrame"
      ]
     },
     "execution_count": 13,
     "metadata": {},
     "output_type": "execute_result"
    }
   ],
   "source": [
    "type(ultimos_años)"
   ]
  },
  {
   "cell_type": "markdown",
   "metadata": {},
   "source": [
    "### Numpy like"
   ]
  },
  {
   "cell_type": "markdown",
   "metadata": {},
   "source": [
    "Usando **iloc** incluimos los extremos"
   ]
  },
  {
   "cell_type": "code",
   "execution_count": 14,
   "metadata": {},
   "outputs": [
    {
     "name": "stdout",
     "output_type": "stream",
     "text": [
      "Los últimos Quarters de cada año\n"
     ]
    },
    {
     "data": {
      "text/html": [
       "<div>\n",
       "<style scoped>\n",
       "    .dataframe tbody tr th:only-of-type {\n",
       "        vertical-align: middle;\n",
       "    }\n",
       "\n",
       "    .dataframe tbody tr th {\n",
       "        vertical-align: top;\n",
       "    }\n",
       "\n",
       "    .dataframe thead th {\n",
       "        text-align: right;\n",
       "    }\n",
       "</style>\n",
       "<table border=\"1\" class=\"dataframe\">\n",
       "  <thead>\n",
       "    <tr style=\"text-align: right;\">\n",
       "      <th></th>\n",
       "      <th>2016</th>\n",
       "      <th>2017</th>\n",
       "      <th>2018</th>\n",
       "    </tr>\n",
       "  </thead>\n",
       "  <tbody>\n",
       "    <tr>\n",
       "      <th>Q3</th>\n",
       "      <td>35</td>\n",
       "      <td>38</td>\n",
       "      <td>60</td>\n",
       "    </tr>\n",
       "    <tr>\n",
       "      <th>Q4</th>\n",
       "      <td>34</td>\n",
       "      <td>23</td>\n",
       "      <td>28</td>\n",
       "    </tr>\n",
       "  </tbody>\n",
       "</table>\n",
       "</div>"
      ],
      "text/plain": [
       "    2016  2017  2018\n",
       "Q3    35    38    60\n",
       "Q4    34    23    28"
      ]
     },
     "execution_count": 14,
     "metadata": {},
     "output_type": "execute_result"
    }
   ],
   "source": [
    "ultimos_q = frame_test_3.iloc[2:]\n",
    "print('Los últimos Quarters de cada año')\n",
    "ultimos_q"
   ]
  },
  {
   "cell_type": "code",
   "execution_count": 15,
   "metadata": {},
   "outputs": [
    {
     "data": {
      "text/html": [
       "<div>\n",
       "<style scoped>\n",
       "    .dataframe tbody tr th:only-of-type {\n",
       "        vertical-align: middle;\n",
       "    }\n",
       "\n",
       "    .dataframe tbody tr th {\n",
       "        vertical-align: top;\n",
       "    }\n",
       "\n",
       "    .dataframe thead th {\n",
       "        text-align: right;\n",
       "    }\n",
       "</style>\n",
       "<table border=\"1\" class=\"dataframe\">\n",
       "  <thead>\n",
       "    <tr style=\"text-align: right;\">\n",
       "      <th></th>\n",
       "      <th>2018</th>\n",
       "    </tr>\n",
       "  </thead>\n",
       "  <tbody>\n",
       "    <tr>\n",
       "      <th>Q4</th>\n",
       "      <td>28</td>\n",
       "    </tr>\n",
       "  </tbody>\n",
       "</table>\n",
       "</div>"
      ],
      "text/plain": [
       "    2018\n",
       "Q4    28"
      ]
     },
     "execution_count": 15,
     "metadata": {},
     "output_type": "execute_result"
    }
   ],
   "source": [
    "ultimo_q_2018 = frame_test_3.iloc[3:,2:]\n",
    "ultimo_q_2018"
   ]
  },
  {
   "cell_type": "code",
   "execution_count": 16,
   "metadata": {},
   "outputs": [
    {
     "data": {
      "text/html": [
       "<div>\n",
       "<style scoped>\n",
       "    .dataframe tbody tr th:only-of-type {\n",
       "        vertical-align: middle;\n",
       "    }\n",
       "\n",
       "    .dataframe tbody tr th {\n",
       "        vertical-align: top;\n",
       "    }\n",
       "\n",
       "    .dataframe thead th {\n",
       "        text-align: right;\n",
       "    }\n",
       "</style>\n",
       "<table border=\"1\" class=\"dataframe\">\n",
       "  <thead>\n",
       "    <tr style=\"text-align: right;\">\n",
       "      <th></th>\n",
       "      <th>2016</th>\n",
       "    </tr>\n",
       "  </thead>\n",
       "  <tbody>\n",
       "    <tr>\n",
       "      <th>Q4</th>\n",
       "      <td>34</td>\n",
       "    </tr>\n",
       "  </tbody>\n",
       "</table>\n",
       "</div>"
      ],
      "text/plain": [
       "    2016\n",
       "Q4    34"
      ]
     },
     "execution_count": 16,
     "metadata": {},
     "output_type": "execute_result"
    }
   ],
   "source": [
    "ultimo_q_2016 = frame_test_3.iloc[3:,:1]\n",
    "ultimo_q_2016"
   ]
  },
  {
   "cell_type": "markdown",
   "metadata": {},
   "source": [
    "### Label Based"
   ]
  },
  {
   "cell_type": "code",
   "execution_count": 17,
   "metadata": {},
   "outputs": [
    {
     "data": {
      "text/html": [
       "<div>\n",
       "<style scoped>\n",
       "    .dataframe tbody tr th:only-of-type {\n",
       "        vertical-align: middle;\n",
       "    }\n",
       "\n",
       "    .dataframe tbody tr th {\n",
       "        vertical-align: top;\n",
       "    }\n",
       "\n",
       "    .dataframe thead th {\n",
       "        text-align: right;\n",
       "    }\n",
       "</style>\n",
       "<table border=\"1\" class=\"dataframe\">\n",
       "  <thead>\n",
       "    <tr style=\"text-align: right;\">\n",
       "      <th></th>\n",
       "      <th>2017</th>\n",
       "      <th>2018</th>\n",
       "    </tr>\n",
       "  </thead>\n",
       "  <tbody>\n",
       "    <tr>\n",
       "      <th>Q1</th>\n",
       "      <td>11</td>\n",
       "      <td>16</td>\n",
       "    </tr>\n",
       "    <tr>\n",
       "      <th>Q2</th>\n",
       "      <td>37</td>\n",
       "      <td>38</td>\n",
       "    </tr>\n",
       "  </tbody>\n",
       "</table>\n",
       "</div>"
      ],
      "text/plain": [
       "    2017  2018\n",
       "Q1    11    16\n",
       "Q2    37    38"
      ]
     },
     "execution_count": 17,
     "metadata": {},
     "output_type": "execute_result"
    }
   ],
   "source": [
    "primeros_q_ultimos_años = frame_test_3.loc[:'Q2', '2017':]\n",
    "primeros_q_ultimos_años"
   ]
  },
  {
   "cell_type": "markdown",
   "metadata": {},
   "source": [
    "# Read Data"
   ]
  },
  {
   "cell_type": "markdown",
   "metadata": {},
   "source": [
    "Podemos configurar pandas para mostrar por defecto una cantidad de filas:"
   ]
  },
  {
   "cell_type": "code",
   "execution_count": 22,
   "metadata": {},
   "outputs": [],
   "source": [
    "pd.options.display.max_rows = 6"
   ]
  },
  {
   "cell_type": "markdown",
   "metadata": {},
   "source": [
    "### De esta forma podemos leer un csv como un DF usandos pandas"
   ]
  },
  {
   "cell_type": "code",
   "execution_count": 23,
   "metadata": {},
   "outputs": [
    {
     "data": {
      "text/html": [
       "<div>\n",
       "<style scoped>\n",
       "    .dataframe tbody tr th:only-of-type {\n",
       "        vertical-align: middle;\n",
       "    }\n",
       "\n",
       "    .dataframe tbody tr th {\n",
       "        vertical-align: top;\n",
       "    }\n",
       "\n",
       "    .dataframe thead th {\n",
       "        text-align: right;\n",
       "    }\n",
       "</style>\n",
       "<table border=\"1\" class=\"dataframe\">\n",
       "  <thead>\n",
       "    <tr style=\"text-align: right;\">\n",
       "      <th></th>\n",
       "      <th>body</th>\n",
       "      <th>title</th>\n",
       "      <th>url</th>\n",
       "    </tr>\n",
       "  </thead>\n",
       "  <tbody>\n",
       "    <tr>\n",
       "      <th>0</th>\n",
       "      <td>\\n\\n\\n\\nEl presidente de Ecuador, Lenín Moreno...</td>\n",
       "      <td>'Está hecho el camino para que Assange deje la...</td>\n",
       "      <td>https://www.eltiempo.com/mundo/latinoamerica/l...</td>\n",
       "    </tr>\n",
       "    <tr>\n",
       "      <th>1</th>\n",
       "      <td>\\n\\n\\n\\nMedianoche del miércoles 28 de noviemb...</td>\n",
       "      <td>Pidió un Uber y acabó en un pique ilegal</td>\n",
       "      <td>https://www.eltiempo.com/bogota/historia-de-un...</td>\n",
       "    </tr>\n",
       "    <tr>\n",
       "      <th>2</th>\n",
       "      <td>\\n\\n\\n\\nPhilip Morris, la mayor tabacalera del...</td>\n",
       "      <td>Multinacional Philip Morris avanza en su campa...</td>\n",
       "      <td>https://www.eltiempo.com/economia/multinaciona...</td>\n",
       "    </tr>\n",
       "    <tr>\n",
       "      <th>...</th>\n",
       "      <td>...</td>\n",
       "      <td>...</td>\n",
       "      <td>...</td>\n",
       "    </tr>\n",
       "    <tr>\n",
       "      <th>54</th>\n",
       "      <td>\\n\\n\\n\\nBelisario Betancur también puede consi...</td>\n",
       "      <td>Así fue la presidencia de Belisario Betancur e...</td>\n",
       "      <td>https://www.eltiempo.com/colombia/como-fue-la-...</td>\n",
       "    </tr>\n",
       "    <tr>\n",
       "      <th>55</th>\n",
       "      <td>\\n\\n\\n\\nPor considerar que en todo proceso jud...</td>\n",
       "      <td>Tutela para que decisiones de JEP sobre extrad...</td>\n",
       "      <td>https://www.eltiempo.com/justicia/jep-colombia...</td>\n",
       "    </tr>\n",
       "    <tr>\n",
       "      <th>56</th>\n",
       "      <td>\\n\\n\\n\\nLa Jurisdicción Especial para la Paz (...</td>\n",
       "      <td>JEP pide a autoridades localizar al 'Paisa' pa...</td>\n",
       "      <td>https://www.eltiempo.com/justicia/jep-colombia...</td>\n",
       "    </tr>\n",
       "  </tbody>\n",
       "</table>\n",
       "<p>57 rows × 3 columns</p>\n",
       "</div>"
      ],
      "text/plain": [
       "                                                 body  \\\n",
       "0   \\n\\n\\n\\nEl presidente de Ecuador, Lenín Moreno...   \n",
       "1   \\n\\n\\n\\nMedianoche del miércoles 28 de noviemb...   \n",
       "2   \\n\\n\\n\\nPhilip Morris, la mayor tabacalera del...   \n",
       "..                                                ...   \n",
       "54  \\n\\n\\n\\nBelisario Betancur también puede consi...   \n",
       "55  \\n\\n\\n\\nPor considerar que en todo proceso jud...   \n",
       "56  \\n\\n\\n\\nLa Jurisdicción Especial para la Paz (...   \n",
       "\n",
       "                                                title  \\\n",
       "0   'Está hecho el camino para que Assange deje la...   \n",
       "1            Pidió un Uber y acabó en un pique ilegal   \n",
       "2   Multinacional Philip Morris avanza en su campa...   \n",
       "..                                                ...   \n",
       "54  Así fue la presidencia de Belisario Betancur e...   \n",
       "55  Tutela para que decisiones de JEP sobre extrad...   \n",
       "56  JEP pide a autoridades localizar al 'Paisa' pa...   \n",
       "\n",
       "                                                  url  \n",
       "0   https://www.eltiempo.com/mundo/latinoamerica/l...  \n",
       "1   https://www.eltiempo.com/bogota/historia-de-un...  \n",
       "2   https://www.eltiempo.com/economia/multinaciona...  \n",
       "..                                                ...  \n",
       "54  https://www.eltiempo.com/colombia/como-fue-la-...  \n",
       "55  https://www.eltiempo.com/justicia/jep-colombia...  \n",
       "56  https://www.eltiempo.com/justicia/jep-colombia...  \n",
       "\n",
       "[57 rows x 3 columns]"
      ]
     },
     "execution_count": 23,
     "metadata": {},
     "output_type": "execute_result"
    }
   ],
   "source": [
    "el_tiempo = pd.read_csv('web_scrapper/eltiempo_2018,_12_07_articles.csv',encoding='utf-8')\n",
    "el_tiempo"
   ]
  },
  {
   "cell_type": "code",
   "execution_count": 24,
   "metadata": {},
   "outputs": [
    {
     "data": {
      "text/html": [
       "<div>\n",
       "<style scoped>\n",
       "    .dataframe tbody tr th:only-of-type {\n",
       "        vertical-align: middle;\n",
       "    }\n",
       "\n",
       "    .dataframe tbody tr th {\n",
       "        vertical-align: top;\n",
       "    }\n",
       "\n",
       "    .dataframe thead th {\n",
       "        text-align: right;\n",
       "    }\n",
       "</style>\n",
       "<table border=\"1\" class=\"dataframe\">\n",
       "  <thead>\n",
       "    <tr style=\"text-align: right;\">\n",
       "      <th></th>\n",
       "      <th>body</th>\n",
       "      <th>title</th>\n",
       "      <th>url</th>\n",
       "    </tr>\n",
       "  </thead>\n",
       "  <tbody>\n",
       "    <tr>\n",
       "      <th>0</th>\n",
       "      <td>\\n\\n\\n\\nEl presidente de Ecuador, Lenín Moreno...</td>\n",
       "      <td>'Está hecho el camino para que Assange deje la...</td>\n",
       "      <td>https://www.eltiempo.com/mundo/latinoamerica/l...</td>\n",
       "    </tr>\n",
       "    <tr>\n",
       "      <th>1</th>\n",
       "      <td>\\n\\n\\n\\nMedianoche del miércoles 28 de noviemb...</td>\n",
       "      <td>Pidió un Uber y acabó en un pique ilegal</td>\n",
       "      <td>https://www.eltiempo.com/bogota/historia-de-un...</td>\n",
       "    </tr>\n",
       "    <tr>\n",
       "      <th>2</th>\n",
       "      <td>\\n\\n\\n\\nPhilip Morris, la mayor tabacalera del...</td>\n",
       "      <td>Multinacional Philip Morris avanza en su campa...</td>\n",
       "      <td>https://www.eltiempo.com/economia/multinaciona...</td>\n",
       "    </tr>\n",
       "    <tr>\n",
       "      <th>3</th>\n",
       "      <td>\\n\\n\\n\\nVicente Torrijos fue nombrado oficialm...</td>\n",
       "      <td>Polémica por falso doctorado del nuevo directo...</td>\n",
       "      <td>https://www.eltiempo.com/politica/proceso-de-p...</td>\n",
       "    </tr>\n",
       "    <tr>\n",
       "      <th>4</th>\n",
       "      <td>\\n\\n\\n\\nHay cosas que simplemente van muy bien...</td>\n",
       "      <td>Según estudios, la música realza los sabores d...</td>\n",
       "      <td>https://www.eltiempo.com/contenido-comercial/s...</td>\n",
       "    </tr>\n",
       "  </tbody>\n",
       "</table>\n",
       "</div>"
      ],
      "text/plain": [
       "                                                body  \\\n",
       "0  \\n\\n\\n\\nEl presidente de Ecuador, Lenín Moreno...   \n",
       "1  \\n\\n\\n\\nMedianoche del miércoles 28 de noviemb...   \n",
       "2  \\n\\n\\n\\nPhilip Morris, la mayor tabacalera del...   \n",
       "3  \\n\\n\\n\\nVicente Torrijos fue nombrado oficialm...   \n",
       "4  \\n\\n\\n\\nHay cosas que simplemente van muy bien...   \n",
       "\n",
       "                                               title  \\\n",
       "0  'Está hecho el camino para que Assange deje la...   \n",
       "1           Pidió un Uber y acabó en un pique ilegal   \n",
       "2  Multinacional Philip Morris avanza en su campa...   \n",
       "3  Polémica por falso doctorado del nuevo directo...   \n",
       "4  Según estudios, la música realza los sabores d...   \n",
       "\n",
       "                                                 url  \n",
       "0  https://www.eltiempo.com/mundo/latinoamerica/l...  \n",
       "1  https://www.eltiempo.com/bogota/historia-de-un...  \n",
       "2  https://www.eltiempo.com/economia/multinaciona...  \n",
       "3  https://www.eltiempo.com/politica/proceso-de-p...  \n",
       "4  https://www.eltiempo.com/contenido-comercial/s...  "
      ]
     },
     "execution_count": 24,
     "metadata": {},
     "output_type": "execute_result"
    }
   ],
   "source": [
    "#5primeras\n",
    "el_tiempo.head()"
   ]
  },
  {
   "cell_type": "code",
   "execution_count": 25,
   "metadata": {},
   "outputs": [
    {
     "data": {
      "text/html": [
       "<div>\n",
       "<style scoped>\n",
       "    .dataframe tbody tr th:only-of-type {\n",
       "        vertical-align: middle;\n",
       "    }\n",
       "\n",
       "    .dataframe tbody tr th {\n",
       "        vertical-align: top;\n",
       "    }\n",
       "\n",
       "    .dataframe thead th {\n",
       "        text-align: right;\n",
       "    }\n",
       "</style>\n",
       "<table border=\"1\" class=\"dataframe\">\n",
       "  <thead>\n",
       "    <tr style=\"text-align: right;\">\n",
       "      <th></th>\n",
       "      <th>body</th>\n",
       "      <th>title</th>\n",
       "      <th>url</th>\n",
       "    </tr>\n",
       "  </thead>\n",
       "  <tbody>\n",
       "    <tr>\n",
       "      <th>52</th>\n",
       "      <td>\\n\\nDecía el libreto que, a estas alturas, Med...</td>\n",
       "      <td>NaN</td>\n",
       "      <td>https://www.futbolred.com/futbol-colombiano/li...</td>\n",
       "    </tr>\n",
       "    <tr>\n",
       "      <th>53</th>\n",
       "      <td>\\n\\n\\n\\n\"A mí me gusta mucho mi trabajo, sient...</td>\n",
       "      <td>¿Cómo cazan infieles en Bogotá?</td>\n",
       "      <td>https://www.eltiempo.com/podcast/la-grabadora/...</td>\n",
       "    </tr>\n",
       "    <tr>\n",
       "      <th>54</th>\n",
       "      <td>\\n\\n\\n\\nBelisario Betancur también puede consi...</td>\n",
       "      <td>Así fue la presidencia de Belisario Betancur e...</td>\n",
       "      <td>https://www.eltiempo.com/colombia/como-fue-la-...</td>\n",
       "    </tr>\n",
       "    <tr>\n",
       "      <th>55</th>\n",
       "      <td>\\n\\n\\n\\nPor considerar que en todo proceso jud...</td>\n",
       "      <td>Tutela para que decisiones de JEP sobre extrad...</td>\n",
       "      <td>https://www.eltiempo.com/justicia/jep-colombia...</td>\n",
       "    </tr>\n",
       "    <tr>\n",
       "      <th>56</th>\n",
       "      <td>\\n\\n\\n\\nLa Jurisdicción Especial para la Paz (...</td>\n",
       "      <td>JEP pide a autoridades localizar al 'Paisa' pa...</td>\n",
       "      <td>https://www.eltiempo.com/justicia/jep-colombia...</td>\n",
       "    </tr>\n",
       "  </tbody>\n",
       "</table>\n",
       "</div>"
      ],
      "text/plain": [
       "                                                 body  \\\n",
       "52  \\n\\nDecía el libreto que, a estas alturas, Med...   \n",
       "53  \\n\\n\\n\\n\"A mí me gusta mucho mi trabajo, sient...   \n",
       "54  \\n\\n\\n\\nBelisario Betancur también puede consi...   \n",
       "55  \\n\\n\\n\\nPor considerar que en todo proceso jud...   \n",
       "56  \\n\\n\\n\\nLa Jurisdicción Especial para la Paz (...   \n",
       "\n",
       "                                                title  \\\n",
       "52                                                NaN   \n",
       "53                    ¿Cómo cazan infieles en Bogotá?   \n",
       "54  Así fue la presidencia de Belisario Betancur e...   \n",
       "55  Tutela para que decisiones de JEP sobre extrad...   \n",
       "56  JEP pide a autoridades localizar al 'Paisa' pa...   \n",
       "\n",
       "                                                  url  \n",
       "52  https://www.futbolred.com/futbol-colombiano/li...  \n",
       "53  https://www.eltiempo.com/podcast/la-grabadora/...  \n",
       "54  https://www.eltiempo.com/colombia/como-fue-la-...  \n",
       "55  https://www.eltiempo.com/justicia/jep-colombia...  \n",
       "56  https://www.eltiempo.com/justicia/jep-colombia...  "
      ]
     },
     "execution_count": 25,
     "metadata": {},
     "output_type": "execute_result"
    }
   ],
   "source": [
    "el_tiempo.tail()"
   ]
  },
  {
   "cell_type": "code",
   "execution_count": 31,
   "metadata": {},
   "outputs": [
    {
     "data": {
      "text/plain": [
       "0     'Está hecho el camino para que Assange deje la...\n",
       "1              Pidió un Uber y acabó en un pique ilegal\n",
       "2     Multinacional Philip Morris avanza en su campa...\n",
       "                            ...                        \n",
       "54    Así fue la presidencia de Belisario Betancur e...\n",
       "55    Tutela para que decisiones de JEP sobre extrad...\n",
       "56    JEP pide a autoridades localizar al 'Paisa' pa...\n",
       "Name: title, Length: 57, dtype: object"
      ]
     },
     "execution_count": 31,
     "metadata": {},
     "output_type": "execute_result"
    }
   ],
   "source": [
    "el_tiempo['title']"
   ]
  },
  {
   "cell_type": "code",
   "execution_count": 27,
   "metadata": {},
   "outputs": [
    {
     "data": {
      "text/html": [
       "<div>\n",
       "<style scoped>\n",
       "    .dataframe tbody tr th:only-of-type {\n",
       "        vertical-align: middle;\n",
       "    }\n",
       "\n",
       "    .dataframe tbody tr th {\n",
       "        vertical-align: top;\n",
       "    }\n",
       "\n",
       "    .dataframe thead th {\n",
       "        text-align: right;\n",
       "    }\n",
       "</style>\n",
       "<table border=\"1\" class=\"dataframe\">\n",
       "  <thead>\n",
       "    <tr style=\"text-align: right;\">\n",
       "      <th></th>\n",
       "      <th>title</th>\n",
       "      <th>url</th>\n",
       "    </tr>\n",
       "  </thead>\n",
       "  <tbody>\n",
       "    <tr>\n",
       "      <th>0</th>\n",
       "      <td>'Está hecho el camino para que Assange deje la...</td>\n",
       "      <td>https://www.eltiempo.com/mundo/latinoamerica/l...</td>\n",
       "    </tr>\n",
       "    <tr>\n",
       "      <th>1</th>\n",
       "      <td>Pidió un Uber y acabó en un pique ilegal</td>\n",
       "      <td>https://www.eltiempo.com/bogota/historia-de-un...</td>\n",
       "    </tr>\n",
       "    <tr>\n",
       "      <th>2</th>\n",
       "      <td>Multinacional Philip Morris avanza en su campa...</td>\n",
       "      <td>https://www.eltiempo.com/economia/multinaciona...</td>\n",
       "    </tr>\n",
       "    <tr>\n",
       "      <th>...</th>\n",
       "      <td>...</td>\n",
       "      <td>...</td>\n",
       "    </tr>\n",
       "    <tr>\n",
       "      <th>54</th>\n",
       "      <td>Así fue la presidencia de Belisario Betancur e...</td>\n",
       "      <td>https://www.eltiempo.com/colombia/como-fue-la-...</td>\n",
       "    </tr>\n",
       "    <tr>\n",
       "      <th>55</th>\n",
       "      <td>Tutela para que decisiones de JEP sobre extrad...</td>\n",
       "      <td>https://www.eltiempo.com/justicia/jep-colombia...</td>\n",
       "    </tr>\n",
       "    <tr>\n",
       "      <th>56</th>\n",
       "      <td>JEP pide a autoridades localizar al 'Paisa' pa...</td>\n",
       "      <td>https://www.eltiempo.com/justicia/jep-colombia...</td>\n",
       "    </tr>\n",
       "  </tbody>\n",
       "</table>\n",
       "<p>57 rows × 2 columns</p>\n",
       "</div>"
      ],
      "text/plain": [
       "                                                title  \\\n",
       "0   'Está hecho el camino para que Assange deje la...   \n",
       "1            Pidió un Uber y acabó en un pique ilegal   \n",
       "2   Multinacional Philip Morris avanza en su campa...   \n",
       "..                                                ...   \n",
       "54  Así fue la presidencia de Belisario Betancur e...   \n",
       "55  Tutela para que decisiones de JEP sobre extrad...   \n",
       "56  JEP pide a autoridades localizar al 'Paisa' pa...   \n",
       "\n",
       "                                                  url  \n",
       "0   https://www.eltiempo.com/mundo/latinoamerica/l...  \n",
       "1   https://www.eltiempo.com/bogota/historia-de-un...  \n",
       "2   https://www.eltiempo.com/economia/multinaciona...  \n",
       "..                                                ...  \n",
       "54  https://www.eltiempo.com/colombia/como-fue-la-...  \n",
       "55  https://www.eltiempo.com/justicia/jep-colombia...  \n",
       "56  https://www.eltiempo.com/justicia/jep-colombia...  \n",
       "\n",
       "[57 rows x 2 columns]"
      ]
     },
     "execution_count": 27,
     "metadata": {},
     "output_type": "execute_result"
    }
   ],
   "source": [
    "el_tiempo[['title', 'url']]"
   ]
  },
  {
   "cell_type": "code",
   "execution_count": 33,
   "metadata": {},
   "outputs": [
    {
     "data": {
      "text/html": [
       "<div>\n",
       "<style scoped>\n",
       "    .dataframe tbody tr th:only-of-type {\n",
       "        vertical-align: middle;\n",
       "    }\n",
       "\n",
       "    .dataframe tbody tr th {\n",
       "        vertical-align: top;\n",
       "    }\n",
       "\n",
       "    .dataframe thead th {\n",
       "        text-align: right;\n",
       "    }\n",
       "</style>\n",
       "<table border=\"1\" class=\"dataframe\">\n",
       "  <thead>\n",
       "    <tr style=\"text-align: right;\">\n",
       "      <th></th>\n",
       "      <th>title</th>\n",
       "      <th>url</th>\n",
       "    </tr>\n",
       "  </thead>\n",
       "  <tbody>\n",
       "    <tr>\n",
       "      <th>10</th>\n",
       "      <td>Venezolano, se amplía el plazo para que pueda ...</td>\n",
       "      <td>https://www.eltiempo.com/mundo/venezuela/ultim...</td>\n",
       "    </tr>\n",
       "    <tr>\n",
       "      <th>11</th>\n",
       "      <td>¿Cómo ayudar a Sully, perro de Bush padre, a s...</td>\n",
       "      <td>https://www.eltiempo.com/vida/medio-ambiente/p...</td>\n",
       "    </tr>\n",
       "    <tr>\n",
       "      <th>12</th>\n",
       "      <td>En 2019 habrá menos puentes y festivos en Colo...</td>\n",
       "      <td>https://www.eltiempo.com/mundo-curioso/cuantos...</td>\n",
       "    </tr>\n",
       "    <tr>\n",
       "      <th>13</th>\n",
       "      <td>Coca-Cola Femsa en Colombia amenaza con irse d...</td>\n",
       "      <td>https://www.eltiempo.com/economia/sectores/ley...</td>\n",
       "    </tr>\n",
       "    <tr>\n",
       "      <th>14</th>\n",
       "      <td>¿Cómo usar los nuevos 'stickers' a la colombia...</td>\n",
       "      <td>https://www.eltiempo.com/tecnosfera/apps/como-...</td>\n",
       "    </tr>\n",
       "  </tbody>\n",
       "</table>\n",
       "</div>"
      ],
      "text/plain": [
       "                                                title  \\\n",
       "10  Venezolano, se amplía el plazo para que pueda ...   \n",
       "11  ¿Cómo ayudar a Sully, perro de Bush padre, a s...   \n",
       "12  En 2019 habrá menos puentes y festivos en Colo...   \n",
       "13  Coca-Cola Femsa en Colombia amenaza con irse d...   \n",
       "14  ¿Cómo usar los nuevos 'stickers' a la colombia...   \n",
       "\n",
       "                                                  url  \n",
       "10  https://www.eltiempo.com/mundo/venezuela/ultim...  \n",
       "11  https://www.eltiempo.com/vida/medio-ambiente/p...  \n",
       "12  https://www.eltiempo.com/mundo-curioso/cuantos...  \n",
       "13  https://www.eltiempo.com/economia/sectores/ley...  \n",
       "14  https://www.eltiempo.com/tecnosfera/apps/como-...  "
      ]
     },
     "execution_count": 33,
     "metadata": {},
     "output_type": "execute_result"
    }
   ],
   "source": [
    "#Fila Columna\n",
    "el_tiempo.iloc[10:15, 1:]"
   ]
  },
  {
   "cell_type": "code",
   "execution_count": 35,
   "metadata": {},
   "outputs": [
    {
     "data": {
      "text/plain": [
       "'La paz de Belisario: una esperanza presa de la confrontación política'"
      ]
     },
     "execution_count": 35,
     "metadata": {},
     "output_type": "execute_result"
    }
   ],
   "source": [
    "#Fila Columna\n",
    "el_tiempo.iloc[34]['title']"
   ]
  },
  {
   "cell_type": "code",
   "execution_count": 39,
   "metadata": {},
   "outputs": [
    {
     "data": {
      "text/html": [
       "<div>\n",
       "<style scoped>\n",
       "    .dataframe tbody tr th:only-of-type {\n",
       "        vertical-align: middle;\n",
       "    }\n",
       "\n",
       "    .dataframe tbody tr th {\n",
       "        vertical-align: top;\n",
       "    }\n",
       "\n",
       "    .dataframe thead th {\n",
       "        text-align: right;\n",
       "    }\n",
       "</style>\n",
       "<table border=\"1\" class=\"dataframe\">\n",
       "  <thead>\n",
       "    <tr style=\"text-align: right;\">\n",
       "      <th></th>\n",
       "      <th>body</th>\n",
       "      <th>title</th>\n",
       "    </tr>\n",
       "  </thead>\n",
       "  <tbody>\n",
       "    <tr>\n",
       "      <th>0</th>\n",
       "      <td>\\n\\n\\n\\nEl presidente de Ecuador, Lenín Moreno...</td>\n",
       "      <td>'Está hecho el camino para que Assange deje la...</td>\n",
       "    </tr>\n",
       "    <tr>\n",
       "      <th>1</th>\n",
       "      <td>\\n\\n\\n\\nMedianoche del miércoles 28 de noviemb...</td>\n",
       "      <td>Pidió un Uber y acabó en un pique ilegal</td>\n",
       "    </tr>\n",
       "    <tr>\n",
       "      <th>2</th>\n",
       "      <td>\\n\\n\\n\\nPhilip Morris, la mayor tabacalera del...</td>\n",
       "      <td>Multinacional Philip Morris avanza en su campa...</td>\n",
       "    </tr>\n",
       "    <tr>\n",
       "      <th>...</th>\n",
       "      <td>...</td>\n",
       "      <td>...</td>\n",
       "    </tr>\n",
       "    <tr>\n",
       "      <th>54</th>\n",
       "      <td>\\n\\n\\n\\nBelisario Betancur también puede consi...</td>\n",
       "      <td>Así fue la presidencia de Belisario Betancur e...</td>\n",
       "    </tr>\n",
       "    <tr>\n",
       "      <th>55</th>\n",
       "      <td>\\n\\n\\n\\nPor considerar que en todo proceso jud...</td>\n",
       "      <td>Tutela para que decisiones de JEP sobre extrad...</td>\n",
       "    </tr>\n",
       "    <tr>\n",
       "      <th>56</th>\n",
       "      <td>\\n\\n\\n\\nLa Jurisdicción Especial para la Paz (...</td>\n",
       "      <td>JEP pide a autoridades localizar al 'Paisa' pa...</td>\n",
       "    </tr>\n",
       "  </tbody>\n",
       "</table>\n",
       "<p>57 rows × 2 columns</p>\n",
       "</div>"
      ],
      "text/plain": [
       "                                                 body  \\\n",
       "0   \\n\\n\\n\\nEl presidente de Ecuador, Lenín Moreno...   \n",
       "1   \\n\\n\\n\\nMedianoche del miércoles 28 de noviemb...   \n",
       "2   \\n\\n\\n\\nPhilip Morris, la mayor tabacalera del...   \n",
       "..                                                ...   \n",
       "54  \\n\\n\\n\\nBelisario Betancur también puede consi...   \n",
       "55  \\n\\n\\n\\nPor considerar que en todo proceso jud...   \n",
       "56  \\n\\n\\n\\nLa Jurisdicción Especial para la Paz (...   \n",
       "\n",
       "                                                title  \n",
       "0   'Está hecho el camino para que Assange deje la...  \n",
       "1            Pidió un Uber y acabó en un pique ilegal  \n",
       "2   Multinacional Philip Morris avanza en su campa...  \n",
       "..                                                ...  \n",
       "54  Así fue la presidencia de Belisario Betancur e...  \n",
       "55  Tutela para que decisiones de JEP sobre extrad...  \n",
       "56  JEP pide a autoridades localizar al 'Paisa' pa...  \n",
       "\n",
       "[57 rows x 2 columns]"
      ]
     },
     "execution_count": 39,
     "metadata": {},
     "output_type": "execute_result"
    }
   ],
   "source": [
    "el_tiempo.loc[:,'body':'title']"
   ]
  },
  {
   "cell_type": "code",
   "execution_count": null,
   "metadata": {},
   "outputs": [],
   "source": []
  }
 ],
 "metadata": {
  "kernelspec": {
   "display_name": "Python 3",
   "language": "python",
   "name": "python3"
  },
  "language_info": {
   "codemirror_mode": {
    "name": "ipython",
    "version": 3
   },
   "file_extension": ".py",
   "mimetype": "text/x-python",
   "name": "python",
   "nbconvert_exporter": "python",
   "pygments_lexer": "ipython3",
   "version": "3.6.5"
  }
 },
 "nbformat": 4,
 "nbformat_minor": 2
}
